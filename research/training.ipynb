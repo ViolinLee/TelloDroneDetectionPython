{
 "cells": [
  {
   "cell_type": "code",
   "execution_count": 1,
   "metadata": {
    "pycharm": {
     "name": "#%%\n"
    }
   },
   "outputs": [],
   "source": [
    "import pandas as pd\n",
    "import numpy as np\n",
    "import tensorflow as tf\n",
    "from tensorflow.keras import layers\n",
    "from tensorflow.keras import optimizers\n",
    "from tensorflow.keras import Sequential\n",
    "from sklearn.model_selection import train_test_split"
   ]
  },
  {
   "cell_type": "code",
   "execution_count": 2,
   "metadata": {},
   "outputs": [],
   "source": [
    "import matplotlib.pyplot as plt\n",
    "import imageio\n",
    "import cv2\n",
    "import os\n",
    "import IPython\n",
    "from IPython.display import Image"
   ]
  },
  {
   "cell_type": "code",
   "execution_count": 3,
   "metadata": {},
   "outputs": [],
   "source": [
    "import mediapipe as mp"
   ]
  },
  {
   "cell_type": "code",
   "execution_count": 4,
   "metadata": {},
   "outputs": [],
   "source": [
    "import pickle\n",
    "import random\n",
    "import augmentors as va\n",
    "import traceback\n",
    "from itertools import chain\n",
    "from tqdm.notebook import tqdm"
   ]
  },
  {
   "cell_type": "code",
   "execution_count": 138,
   "metadata": {},
   "outputs": [],
   "source": [
    "CLASS_NAMES = ['xiaoheizi', 'ikun']\n",
    "SEQ_LENGTH = 75\n",
    "COMPLEX_MODE = True\n",
    "CLASS_NUM = 2\n",
    "BATCH_SIZE = 4\n",
    "INPUT_SHAPE = (SEQ_LENGTH, 2) if not COMPLEX_MODE else (SEQ_LENGTH, 33*2)\n",
    "# Mediapipe model config\n",
    "MODEL_COMPLEXITY = 2\n",
    "ENABLE_SEGMENTATION = False\n",
    "MIN_DETECTION_CONFIDENCE = 0.5\n",
    "MIN_TRACKING_CONFIDENCE = 0.5"
   ]
  },
  {
   "cell_type": "markdown",
   "metadata": {},
   "source": [
    "数据集预处理：IKUN样本量稀少，需做数据增强，手段包括：（1）随机画面裁剪；（2）轻度旋转；（3）镜像；（4）跳帧；（5）随机帧位置裁剪"
   ]
  },
  {
   "cell_type": "code",
   "execution_count": 25,
   "metadata": {},
   "outputs": [],
   "source": [
    "def augmentation(video_path, target_path, is_random_crop: bool):\n",
    "    \"\"\"https://github.com/okankop/vidaug\"\"\"\n",
    "    \n",
    "    # step1: extract original frames and video info (shape, fps)\n",
    "    cap = cv2.VideoCapture(video_path)\n",
    "    if not cap.isOpened():\n",
    "        print(\"Error Opening video File\")\n",
    "        raise IOError\n",
    "    \n",
    "    # get fps\n",
    "    (major_ver, minor_ver, subminor_ver) = (cv2.__version__).split('.')\n",
    "    if int(major_ver)  < 3 :\n",
    "        fps = cap.get(cv2.cv.CV_CAP_PROP_FPS)\n",
    "        # print(\"Frames per second using video.get(cv2.cv.CV_CAP_PROP_FPS): {0}\".format(fps))\n",
    "    else :\n",
    "        fps = cap.get(cv2.CAP_PROP_FPS)\n",
    "        # print(\"Frames per second using video.get(cv2.CAP_PROP_FPS) : {0}\".format(fps))\n",
    "    \n",
    "    # get frame shape\n",
    "    frame_width  = cap.get(cv2.CAP_PROP_FRAME_WIDTH)   # float `width`\n",
    "    frame_height = cap.get(cv2.CAP_PROP_FRAME_HEIGHT)  # float `height`\n",
    "    \n",
    "    # read frames\n",
    "    frames = []\n",
    "    while cap.isOpened():\n",
    "        ret, frame = cap.read()\n",
    "        if ret:\n",
    "            frames.append(frame)\n",
    "        else:\n",
    "            break\n",
    "    cap.release()\n",
    "    \n",
    "    # step2: augmentation\n",
    "    \n",
    "    crop_width, crop_height = map(lambda x: int(x * 0.8), [frame_width, frame_height])\n",
    "    trans_x, trans_y = map(lambda x: int(x * 0.2), [frame_width, frame_height])\n",
    "    deg = random.randint(1,5)\n",
    "    \n",
    "    seq = va.Sequential([\n",
    "        va.RandomTranslate(x=trans_x, y=trans_y),\n",
    "        # va.RandomRotate(degrees=deg),  # sometime return black frames\n",
    "        va.RandomCrop(size=(crop_height, crop_width)) if is_random_crop else va.CenterCrop(size=(crop_height, crop_width)),\n",
    "        va.HorizontalFlip(),\n",
    "        # va.Pepper(95)  # too large\n",
    "    ])\n",
    "    \n",
    "#     if fps > 25:\n",
    "#         seq.add(va.Downsample(ratio=25/fps))\n",
    "#     elif fps < 25:\n",
    "#         seq.add(va.Upsample(ratio=fps/25))\n",
    "#     else:\n",
    "#         pass\n",
    "    \n",
    "    frames_aug = seq(frames)\n",
    "    size = np.shape(frames_aug[0])\n",
    "    # print(frames_aug[0].dtype)\n",
    "    # print(size)\n",
    "    \n",
    "    # step3: rewrite video\n",
    "    codec = cv2.VideoWriter_fourcc(*'mp4v')  # cv2.VideoWriter_fourcc('M','J','P','G')  # \n",
    "    out = cv2.VideoWriter(target_path, codec, fps, (size[1], size[0]))\n",
    "    \n",
    "    for aug_frame in frames_aug:\n",
    "        out.write(aug_frame)\n",
    "    \n",
    "    out.release()"
   ]
  },
  {
   "cell_type": "markdown",
   "metadata": {},
   "source": [
    "测试数据增强效果"
   ]
  },
  {
   "cell_type": "code",
   "execution_count": 26,
   "metadata": {},
   "outputs": [],
   "source": [
    "vid_path = 'tieshankao.mp4'\n",
    "augmentation(vid_path, target_path='tieshankao_aug.mp4', is_random_crop=True)"
   ]
  },
  {
   "cell_type": "code",
   "execution_count": 27,
   "metadata": {},
   "outputs": [
    {
     "data": {
      "application/vnd.jupyter.widget-view+json": {
       "model_id": "608b2a6085de4c4d9b56ca3b0afe1a8b",
       "version_major": 2,
       "version_minor": 0
      },
      "text/plain": [
       "  0%|          | 0/55 [00:00<?, ?it/s]"
      ]
     },
     "metadata": {},
     "output_type": "display_data"
    },
    {
     "name": "stdout",
     "output_type": "stream",
     "text": [
      "file augmentation error，filename: 20sui.mp4.\n",
      "\n",
      "\n",
      "\n"
     ]
    },
    {
     "name": "stderr",
     "output_type": "stream",
     "text": [
      "Traceback (most recent call last):\n",
      "  File \"C:\\Users\\mechl\\AppData\\Local\\Temp\\ipykernel_1576\\203793542.py\", line 12, in <module>\n",
      "    augmentation(file_path, target_path, is_random_crop=False)\n",
      "  File \"C:\\Users\\mechl\\AppData\\Local\\Temp\\ipykernel_1576\\3418852206.py\", line 42, in augmentation\n",
      "    va.RandomCrop(size=(crop_height, crop_width)) if is_random_crop else va.CenterCrop(),\n",
      "TypeError: __init__() missing 1 required positional argument: 'size'\n"
     ]
    },
    {
     "name": "stdout",
     "output_type": "stream",
     "text": [
      "file augmentation error，filename: baishi.mp4.\n",
      "\n",
      "\n",
      "\n"
     ]
    },
    {
     "name": "stderr",
     "output_type": "stream",
     "text": [
      "Traceback (most recent call last):\n",
      "  File \"C:\\Users\\mechl\\AppData\\Local\\Temp\\ipykernel_1576\\203793542.py\", line 12, in <module>\n",
      "    augmentation(file_path, target_path, is_random_crop=False)\n",
      "  File \"C:\\Users\\mechl\\AppData\\Local\\Temp\\ipykernel_1576\\3418852206.py\", line 42, in augmentation\n",
      "    va.RandomCrop(size=(crop_height, crop_width)) if is_random_crop else va.CenterCrop(),\n",
      "TypeError: __init__() missing 1 required positional argument: 'size'\n"
     ]
    },
    {
     "name": "stdout",
     "output_type": "stream",
     "text": [
      "file augmentation error，filename: banji.mp4.\n",
      "\n",
      "\n",
      "\n"
     ]
    },
    {
     "name": "stderr",
     "output_type": "stream",
     "text": [
      "Traceback (most recent call last):\n",
      "  File \"C:\\Users\\mechl\\AppData\\Local\\Temp\\ipykernel_1576\\203793542.py\", line 12, in <module>\n",
      "    augmentation(file_path, target_path, is_random_crop=False)\n",
      "  File \"C:\\Users\\mechl\\AppData\\Local\\Temp\\ipykernel_1576\\3418852206.py\", line 42, in augmentation\n",
      "    va.RandomCrop(size=(crop_height, crop_width)) if is_random_crop else va.CenterCrop(),\n",
      "TypeError: __init__() missing 1 required positional argument: 'size'\n"
     ]
    },
    {
     "name": "stdout",
     "output_type": "stream",
     "text": [
      "file augmentation error，filename: cesuo.mp4.\n",
      "\n",
      "\n",
      "\n"
     ]
    },
    {
     "name": "stderr",
     "output_type": "stream",
     "text": [
      "Traceback (most recent call last):\n",
      "  File \"C:\\Users\\mechl\\AppData\\Local\\Temp\\ipykernel_1576\\203793542.py\", line 12, in <module>\n",
      "    augmentation(file_path, target_path, is_random_crop=False)\n",
      "  File \"C:\\Users\\mechl\\AppData\\Local\\Temp\\ipykernel_1576\\3418852206.py\", line 42, in augmentation\n",
      "    va.RandomCrop(size=(crop_height, crop_width)) if is_random_crop else va.CenterCrop(),\n",
      "TypeError: __init__() missing 1 required positional argument: 'size'\n"
     ]
    },
    {
     "name": "stdout",
     "output_type": "stream",
     "text": [
      "file augmentation error，filename: diangong.mp4.\n",
      "\n",
      "\n",
      "\n"
     ]
    },
    {
     "name": "stderr",
     "output_type": "stream",
     "text": [
      "Traceback (most recent call last):\n",
      "  File \"C:\\Users\\mechl\\AppData\\Local\\Temp\\ipykernel_1576\\203793542.py\", line 12, in <module>\n",
      "    augmentation(file_path, target_path, is_random_crop=False)\n",
      "  File \"C:\\Users\\mechl\\AppData\\Local\\Temp\\ipykernel_1576\\3418852206.py\", line 42, in augmentation\n",
      "    va.RandomCrop(size=(crop_height, crop_width)) if is_random_crop else va.CenterCrop(),\n",
      "TypeError: __init__() missing 1 required positional argument: 'size'\n"
     ]
    },
    {
     "name": "stdout",
     "output_type": "stream",
     "text": [
      "file augmentation error，filename: dianxin.mp4.\n",
      "\n",
      "\n",
      "\n"
     ]
    },
    {
     "name": "stderr",
     "output_type": "stream",
     "text": [
      "Traceback (most recent call last):\n",
      "  File \"C:\\Users\\mechl\\AppData\\Local\\Temp\\ipykernel_1576\\203793542.py\", line 12, in <module>\n",
      "    augmentation(file_path, target_path, is_random_crop=False)\n",
      "  File \"C:\\Users\\mechl\\AppData\\Local\\Temp\\ipykernel_1576\\3418852206.py\", line 42, in augmentation\n",
      "    va.RandomCrop(size=(crop_height, crop_width)) if is_random_crop else va.CenterCrop(),\n",
      "TypeError: __init__() missing 1 required positional argument: 'size'\n"
     ]
    },
    {
     "name": "stdout",
     "output_type": "stream",
     "text": [
      "file augmentation error，filename: duibuqi.mp4.\n",
      "\n",
      "\n",
      "\n"
     ]
    },
    {
     "name": "stderr",
     "output_type": "stream",
     "text": [
      "Traceback (most recent call last):\n",
      "  File \"C:\\Users\\mechl\\AppData\\Local\\Temp\\ipykernel_1576\\203793542.py\", line 12, in <module>\n",
      "    augmentation(file_path, target_path, is_random_crop=False)\n",
      "  File \"C:\\Users\\mechl\\AppData\\Local\\Temp\\ipykernel_1576\\3418852206.py\", line 42, in augmentation\n",
      "    va.RandomCrop(size=(crop_height, crop_width)) if is_random_crop else va.CenterCrop(),\n",
      "TypeError: __init__() missing 1 required positional argument: 'size'\n"
     ]
    },
    {
     "name": "stdout",
     "output_type": "stream",
     "text": [
      "file augmentation error，filename: erciyuanzhenren.mp4.\n",
      "\n",
      "\n",
      "\n"
     ]
    },
    {
     "name": "stderr",
     "output_type": "stream",
     "text": [
      "Traceback (most recent call last):\n",
      "  File \"C:\\Users\\mechl\\AppData\\Local\\Temp\\ipykernel_1576\\203793542.py\", line 12, in <module>\n",
      "    augmentation(file_path, target_path, is_random_crop=False)\n",
      "  File \"C:\\Users\\mechl\\AppData\\Local\\Temp\\ipykernel_1576\\3418852206.py\", line 42, in augmentation\n",
      "    va.RandomCrop(size=(crop_height, crop_width)) if is_random_crop else va.CenterCrop(),\n",
      "TypeError: __init__() missing 1 required positional argument: 'size'\n"
     ]
    },
    {
     "name": "stdout",
     "output_type": "stream",
     "text": [
      "file augmentation error，filename: genzhexue.mp4.\n",
      "\n",
      "\n",
      "\n"
     ]
    },
    {
     "name": "stderr",
     "output_type": "stream",
     "text": [
      "Traceback (most recent call last):\n",
      "  File \"C:\\Users\\mechl\\AppData\\Local\\Temp\\ipykernel_1576\\203793542.py\", line 12, in <module>\n",
      "    augmentation(file_path, target_path, is_random_crop=False)\n",
      "  File \"C:\\Users\\mechl\\AppData\\Local\\Temp\\ipykernel_1576\\3418852206.py\", line 42, in augmentation\n",
      "    va.RandomCrop(size=(crop_height, crop_width)) if is_random_crop else va.CenterCrop(),\n",
      "TypeError: __init__() missing 1 required positional argument: 'size'\n"
     ]
    },
    {
     "name": "stdout",
     "output_type": "stream",
     "text": [
      "file augmentation error，filename: guanmen.mp4.\n",
      "\n",
      "\n",
      "\n"
     ]
    },
    {
     "name": "stderr",
     "output_type": "stream",
     "text": [
      "Traceback (most recent call last):\n",
      "  File \"C:\\Users\\mechl\\AppData\\Local\\Temp\\ipykernel_1576\\203793542.py\", line 12, in <module>\n",
      "    augmentation(file_path, target_path, is_random_crop=False)\n",
      "  File \"C:\\Users\\mechl\\AppData\\Local\\Temp\\ipykernel_1576\\3418852206.py\", line 42, in augmentation\n",
      "    va.RandomCrop(size=(crop_height, crop_width)) if is_random_crop else va.CenterCrop(),\n",
      "TypeError: __init__() missing 1 required positional argument: 'size'\n"
     ]
    },
    {
     "name": "stdout",
     "output_type": "stream",
     "text": [
      "file augmentation error，filename: gudai.mp4.\n",
      "\n",
      "\n",
      "\n"
     ]
    },
    {
     "name": "stderr",
     "output_type": "stream",
     "text": [
      "Traceback (most recent call last):\n",
      "  File \"C:\\Users\\mechl\\AppData\\Local\\Temp\\ipykernel_1576\\203793542.py\", line 12, in <module>\n",
      "    augmentation(file_path, target_path, is_random_crop=False)\n",
      "  File \"C:\\Users\\mechl\\AppData\\Local\\Temp\\ipykernel_1576\\3418852206.py\", line 42, in augmentation\n",
      "    va.RandomCrop(size=(crop_height, crop_width)) if is_random_crop else va.CenterCrop(),\n",
      "TypeError: __init__() missing 1 required positional argument: 'size'\n"
     ]
    },
    {
     "name": "stdout",
     "output_type": "stream",
     "text": [
      "file augmentation error，filename: haixiu.mp4.\n",
      "\n",
      "\n",
      "\n"
     ]
    },
    {
     "name": "stderr",
     "output_type": "stream",
     "text": [
      "Traceback (most recent call last):\n",
      "  File \"C:\\Users\\mechl\\AppData\\Local\\Temp\\ipykernel_1576\\203793542.py\", line 12, in <module>\n",
      "    augmentation(file_path, target_path, is_random_crop=False)\n",
      "  File \"C:\\Users\\mechl\\AppData\\Local\\Temp\\ipykernel_1576\\3418852206.py\", line 42, in augmentation\n",
      "    va.RandomCrop(size=(crop_height, crop_width)) if is_random_crop else va.CenterCrop(),\n",
      "TypeError: __init__() missing 1 required positional argument: 'size'\n"
     ]
    },
    {
     "name": "stdout",
     "output_type": "stream",
     "text": [
      "file augmentation error，filename: haiyouren.mp4.\n",
      "\n",
      "\n",
      "\n"
     ]
    },
    {
     "name": "stderr",
     "output_type": "stream",
     "text": [
      "Traceback (most recent call last):\n",
      "  File \"C:\\Users\\mechl\\AppData\\Local\\Temp\\ipykernel_1576\\203793542.py\", line 12, in <module>\n",
      "    augmentation(file_path, target_path, is_random_crop=False)\n",
      "  File \"C:\\Users\\mechl\\AppData\\Local\\Temp\\ipykernel_1576\\3418852206.py\", line 42, in augmentation\n",
      "    va.RandomCrop(size=(crop_height, crop_width)) if is_random_crop else va.CenterCrop(),\n",
      "TypeError: __init__() missing 1 required positional argument: 'size'\n"
     ]
    },
    {
     "name": "stdout",
     "output_type": "stream",
     "text": [
      "file augmentation error，filename: heisi.mp4.\n",
      "\n",
      "\n",
      "\n"
     ]
    },
    {
     "name": "stderr",
     "output_type": "stream",
     "text": [
      "Traceback (most recent call last):\n",
      "  File \"C:\\Users\\mechl\\AppData\\Local\\Temp\\ipykernel_1576\\203793542.py\", line 12, in <module>\n",
      "    augmentation(file_path, target_path, is_random_crop=False)\n",
      "  File \"C:\\Users\\mechl\\AppData\\Local\\Temp\\ipykernel_1576\\3418852206.py\", line 42, in augmentation\n",
      "    va.RandomCrop(size=(crop_height, crop_width)) if is_random_crop else va.CenterCrop(),\n",
      "TypeError: __init__() missing 1 required positional argument: 'size'\n"
     ]
    },
    {
     "name": "stdout",
     "output_type": "stream",
     "text": [
      "file augmentation error，filename: huashen.mp4.\n",
      "\n",
      "\n",
      "\n"
     ]
    },
    {
     "name": "stderr",
     "output_type": "stream",
     "text": [
      "Traceback (most recent call last):\n",
      "  File \"C:\\Users\\mechl\\AppData\\Local\\Temp\\ipykernel_1576\\203793542.py\", line 12, in <module>\n",
      "    augmentation(file_path, target_path, is_random_crop=False)\n",
      "  File \"C:\\Users\\mechl\\AppData\\Local\\Temp\\ipykernel_1576\\3418852206.py\", line 42, in augmentation\n",
      "    va.RandomCrop(size=(crop_height, crop_width)) if is_random_crop else va.CenterCrop(),\n",
      "TypeError: __init__() missing 1 required positional argument: 'size'\n"
     ]
    },
    {
     "name": "stdout",
     "output_type": "stream",
     "text": [
      "file augmentation error，filename: jiewu.mp4.\n",
      "\n",
      "\n",
      "\n"
     ]
    },
    {
     "name": "stderr",
     "output_type": "stream",
     "text": [
      "Traceback (most recent call last):\n",
      "  File \"C:\\Users\\mechl\\AppData\\Local\\Temp\\ipykernel_1576\\203793542.py\", line 12, in <module>\n",
      "    augmentation(file_path, target_path, is_random_crop=False)\n",
      "  File \"C:\\Users\\mechl\\AppData\\Local\\Temp\\ipykernel_1576\\3418852206.py\", line 42, in augmentation\n",
      "    va.RandomCrop(size=(crop_height, crop_width)) if is_random_crop else va.CenterCrop(),\n",
      "TypeError: __init__() missing 1 required positional argument: 'size'\n"
     ]
    },
    {
     "name": "stdout",
     "output_type": "stream",
     "text": [
      "file augmentation error，filename: jigongzai.mp4.\n",
      "\n",
      "\n",
      "\n"
     ]
    },
    {
     "name": "stderr",
     "output_type": "stream",
     "text": [
      "Traceback (most recent call last):\n",
      "  File \"C:\\Users\\mechl\\AppData\\Local\\Temp\\ipykernel_1576\\203793542.py\", line 12, in <module>\n",
      "    augmentation(file_path, target_path, is_random_crop=False)\n",
      "  File \"C:\\Users\\mechl\\AppData\\Local\\Temp\\ipykernel_1576\\3418852206.py\", line 42, in augmentation\n",
      "    va.RandomCrop(size=(crop_height, crop_width)) if is_random_crop else va.CenterCrop(),\n",
      "TypeError: __init__() missing 1 required positional argument: 'size'\n"
     ]
    },
    {
     "name": "stdout",
     "output_type": "stream",
     "text": [
      "file augmentation error，filename: jixie.mp4.\n",
      "\n",
      "\n",
      "\n"
     ]
    },
    {
     "name": "stderr",
     "output_type": "stream",
     "text": [
      "Traceback (most recent call last):\n",
      "  File \"C:\\Users\\mechl\\AppData\\Local\\Temp\\ipykernel_1576\\203793542.py\", line 12, in <module>\n",
      "    augmentation(file_path, target_path, is_random_crop=False)\n",
      "  File \"C:\\Users\\mechl\\AppData\\Local\\Temp\\ipykernel_1576\\3418852206.py\", line 42, in augmentation\n",
      "    va.RandomCrop(size=(crop_height, crop_width)) if is_random_crop else va.CenterCrop(),\n",
      "TypeError: __init__() missing 1 required positional argument: 'size'\n"
     ]
    },
    {
     "name": "stdout",
     "output_type": "stream",
     "text": [
      "file augmentation error，filename: jixie2.mp4.\n",
      "\n",
      "\n",
      "\n"
     ]
    },
    {
     "name": "stderr",
     "output_type": "stream",
     "text": [
      "Traceback (most recent call last):\n",
      "  File \"C:\\Users\\mechl\\AppData\\Local\\Temp\\ipykernel_1576\\203793542.py\", line 12, in <module>\n",
      "    augmentation(file_path, target_path, is_random_crop=False)\n",
      "  File \"C:\\Users\\mechl\\AppData\\Local\\Temp\\ipykernel_1576\\3418852206.py\", line 42, in augmentation\n",
      "    va.RandomCrop(size=(crop_height, crop_width)) if is_random_crop else va.CenterCrop(),\n",
      "TypeError: __init__() missing 1 required positional argument: 'size'\n"
     ]
    },
    {
     "name": "stdout",
     "output_type": "stream",
     "text": [
      "file augmentation error，filename: kaichemen.mp4.\n",
      "\n",
      "\n",
      "\n"
     ]
    },
    {
     "name": "stderr",
     "output_type": "stream",
     "text": [
      "Traceback (most recent call last):\n",
      "  File \"C:\\Users\\mechl\\AppData\\Local\\Temp\\ipykernel_1576\\203793542.py\", line 12, in <module>\n",
      "    augmentation(file_path, target_path, is_random_crop=False)\n",
      "  File \"C:\\Users\\mechl\\AppData\\Local\\Temp\\ipykernel_1576\\3418852206.py\", line 42, in augmentation\n",
      "    va.RandomCrop(size=(crop_height, crop_width)) if is_random_crop else va.CenterCrop(),\n",
      "TypeError: __init__() missing 1 required positional argument: 'size'\n"
     ]
    },
    {
     "name": "stdout",
     "output_type": "stream",
     "text": [
      "file augmentation error，filename: karsa.mp4.\n",
      "\n",
      "\n",
      "\n"
     ]
    },
    {
     "name": "stderr",
     "output_type": "stream",
     "text": [
      "Traceback (most recent call last):\n",
      "  File \"C:\\Users\\mechl\\AppData\\Local\\Temp\\ipykernel_1576\\203793542.py\", line 12, in <module>\n",
      "    augmentation(file_path, target_path, is_random_crop=False)\n",
      "  File \"C:\\Users\\mechl\\AppData\\Local\\Temp\\ipykernel_1576\\3418852206.py\", line 42, in augmentation\n",
      "    va.RandomCrop(size=(crop_height, crop_width)) if is_random_crop else va.CenterCrop(),\n",
      "TypeError: __init__() missing 1 required positional argument: 'size'\n"
     ]
    },
    {
     "name": "stdout",
     "output_type": "stream",
     "text": [
      "file augmentation error，filename: kfc.mp4.\n",
      "\n",
      "\n",
      "\n"
     ]
    },
    {
     "name": "stderr",
     "output_type": "stream",
     "text": [
      "Traceback (most recent call last):\n",
      "  File \"C:\\Users\\mechl\\AppData\\Local\\Temp\\ipykernel_1576\\203793542.py\", line 12, in <module>\n",
      "    augmentation(file_path, target_path, is_random_crop=False)\n",
      "  File \"C:\\Users\\mechl\\AppData\\Local\\Temp\\ipykernel_1576\\3418852206.py\", line 42, in augmentation\n",
      "    va.RandomCrop(size=(crop_height, crop_width)) if is_random_crop else va.CenterCrop(),\n",
      "TypeError: __init__() missing 1 required positional argument: 'size'\n"
     ]
    },
    {
     "name": "stdout",
     "output_type": "stream",
     "text": [
      "file augmentation error，filename: lanqiubaobei.mp4.\n",
      "\n",
      "\n",
      "\n"
     ]
    },
    {
     "name": "stderr",
     "output_type": "stream",
     "text": [
      "Traceback (most recent call last):\n",
      "  File \"C:\\Users\\mechl\\AppData\\Local\\Temp\\ipykernel_1576\\203793542.py\", line 12, in <module>\n",
      "    augmentation(file_path, target_path, is_random_crop=False)\n",
      "  File \"C:\\Users\\mechl\\AppData\\Local\\Temp\\ipykernel_1576\\3418852206.py\", line 42, in augmentation\n",
      "    va.RandomCrop(size=(crop_height, crop_width)) if is_random_crop else va.CenterCrop(),\n",
      "TypeError: __init__() missing 1 required positional argument: 'size'\n"
     ]
    },
    {
     "name": "stdout",
     "output_type": "stream",
     "text": [
      "file augmentation error，filename: lanqiuchang.mp4.\n",
      "\n",
      "\n",
      "\n"
     ]
    },
    {
     "name": "stderr",
     "output_type": "stream",
     "text": [
      "Traceback (most recent call last):\n",
      "  File \"C:\\Users\\mechl\\AppData\\Local\\Temp\\ipykernel_1576\\203793542.py\", line 12, in <module>\n",
      "    augmentation(file_path, target_path, is_random_crop=False)\n",
      "  File \"C:\\Users\\mechl\\AppData\\Local\\Temp\\ipykernel_1576\\3418852206.py\", line 42, in augmentation\n",
      "    va.RandomCrop(size=(crop_height, crop_width)) if is_random_crop else va.CenterCrop(),\n",
      "TypeError: __init__() missing 1 required positional argument: 'size'\n"
     ]
    },
    {
     "name": "stdout",
     "output_type": "stream",
     "text": [
      "file augmentation error，filename: lee1.mp4.\n",
      "\n",
      "\n",
      "\n"
     ]
    },
    {
     "name": "stderr",
     "output_type": "stream",
     "text": [
      "Traceback (most recent call last):\n",
      "  File \"C:\\Users\\mechl\\AppData\\Local\\Temp\\ipykernel_1576\\203793542.py\", line 12, in <module>\n",
      "    augmentation(file_path, target_path, is_random_crop=False)\n",
      "  File \"C:\\Users\\mechl\\AppData\\Local\\Temp\\ipykernel_1576\\3418852206.py\", line 42, in augmentation\n",
      "    va.RandomCrop(size=(crop_height, crop_width)) if is_random_crop else va.CenterCrop(),\n",
      "TypeError: __init__() missing 1 required positional argument: 'size'\n"
     ]
    },
    {
     "name": "stdout",
     "output_type": "stream",
     "text": [
      "file augmentation error，filename: lee10.mp4.\n",
      "\n",
      "\n",
      "\n"
     ]
    },
    {
     "name": "stderr",
     "output_type": "stream",
     "text": [
      "Traceback (most recent call last):\n",
      "  File \"C:\\Users\\mechl\\AppData\\Local\\Temp\\ipykernel_1576\\203793542.py\", line 12, in <module>\n",
      "    augmentation(file_path, target_path, is_random_crop=False)\n",
      "  File \"C:\\Users\\mechl\\AppData\\Local\\Temp\\ipykernel_1576\\3418852206.py\", line 42, in augmentation\n",
      "    va.RandomCrop(size=(crop_height, crop_width)) if is_random_crop else va.CenterCrop(),\n",
      "TypeError: __init__() missing 1 required positional argument: 'size'\n"
     ]
    },
    {
     "name": "stdout",
     "output_type": "stream",
     "text": [
      "file augmentation error，filename: lee11.mp4.\n",
      "\n",
      "\n",
      "\n"
     ]
    },
    {
     "name": "stderr",
     "output_type": "stream",
     "text": [
      "Traceback (most recent call last):\n",
      "  File \"C:\\Users\\mechl\\AppData\\Local\\Temp\\ipykernel_1576\\203793542.py\", line 12, in <module>\n",
      "    augmentation(file_path, target_path, is_random_crop=False)\n",
      "  File \"C:\\Users\\mechl\\AppData\\Local\\Temp\\ipykernel_1576\\3418852206.py\", line 42, in augmentation\n",
      "    va.RandomCrop(size=(crop_height, crop_width)) if is_random_crop else va.CenterCrop(),\n",
      "TypeError: __init__() missing 1 required positional argument: 'size'\n"
     ]
    },
    {
     "name": "stdout",
     "output_type": "stream",
     "text": [
      "file augmentation error，filename: lee2.mp4.\n",
      "\n",
      "\n",
      "\n"
     ]
    },
    {
     "name": "stderr",
     "output_type": "stream",
     "text": [
      "Traceback (most recent call last):\n",
      "  File \"C:\\Users\\mechl\\AppData\\Local\\Temp\\ipykernel_1576\\203793542.py\", line 12, in <module>\n",
      "    augmentation(file_path, target_path, is_random_crop=False)\n",
      "  File \"C:\\Users\\mechl\\AppData\\Local\\Temp\\ipykernel_1576\\3418852206.py\", line 42, in augmentation\n",
      "    va.RandomCrop(size=(crop_height, crop_width)) if is_random_crop else va.CenterCrop(),\n",
      "TypeError: __init__() missing 1 required positional argument: 'size'\n"
     ]
    },
    {
     "name": "stdout",
     "output_type": "stream",
     "text": [
      "file augmentation error，filename: lee3.mp4.\n",
      "\n",
      "\n",
      "\n"
     ]
    },
    {
     "name": "stderr",
     "output_type": "stream",
     "text": [
      "Traceback (most recent call last):\n",
      "  File \"C:\\Users\\mechl\\AppData\\Local\\Temp\\ipykernel_1576\\203793542.py\", line 12, in <module>\n",
      "    augmentation(file_path, target_path, is_random_crop=False)\n",
      "  File \"C:\\Users\\mechl\\AppData\\Local\\Temp\\ipykernel_1576\\3418852206.py\", line 42, in augmentation\n",
      "    va.RandomCrop(size=(crop_height, crop_width)) if is_random_crop else va.CenterCrop(),\n",
      "TypeError: __init__() missing 1 required positional argument: 'size'\n"
     ]
    },
    {
     "name": "stdout",
     "output_type": "stream",
     "text": [
      "file augmentation error，filename: lee4.mp4.\n",
      "\n",
      "\n",
      "\n"
     ]
    },
    {
     "name": "stderr",
     "output_type": "stream",
     "text": [
      "Traceback (most recent call last):\n",
      "  File \"C:\\Users\\mechl\\AppData\\Local\\Temp\\ipykernel_1576\\203793542.py\", line 12, in <module>\n",
      "    augmentation(file_path, target_path, is_random_crop=False)\n",
      "  File \"C:\\Users\\mechl\\AppData\\Local\\Temp\\ipykernel_1576\\3418852206.py\", line 42, in augmentation\n",
      "    va.RandomCrop(size=(crop_height, crop_width)) if is_random_crop else va.CenterCrop(),\n",
      "TypeError: __init__() missing 1 required positional argument: 'size'\n"
     ]
    },
    {
     "name": "stdout",
     "output_type": "stream",
     "text": [
      "file augmentation error，filename: lee5.mp4.\n",
      "\n",
      "\n",
      "\n"
     ]
    },
    {
     "name": "stderr",
     "output_type": "stream",
     "text": [
      "Traceback (most recent call last):\n",
      "  File \"C:\\Users\\mechl\\AppData\\Local\\Temp\\ipykernel_1576\\203793542.py\", line 12, in <module>\n",
      "    augmentation(file_path, target_path, is_random_crop=False)\n",
      "  File \"C:\\Users\\mechl\\AppData\\Local\\Temp\\ipykernel_1576\\3418852206.py\", line 42, in augmentation\n",
      "    va.RandomCrop(size=(crop_height, crop_width)) if is_random_crop else va.CenterCrop(),\n",
      "TypeError: __init__() missing 1 required positional argument: 'size'\n"
     ]
    },
    {
     "name": "stdout",
     "output_type": "stream",
     "text": [
      "file augmentation error，filename: lee6.mp4.\n",
      "\n",
      "\n",
      "\n"
     ]
    },
    {
     "name": "stderr",
     "output_type": "stream",
     "text": [
      "Traceback (most recent call last):\n",
      "  File \"C:\\Users\\mechl\\AppData\\Local\\Temp\\ipykernel_1576\\203793542.py\", line 12, in <module>\n",
      "    augmentation(file_path, target_path, is_random_crop=False)\n",
      "  File \"C:\\Users\\mechl\\AppData\\Local\\Temp\\ipykernel_1576\\3418852206.py\", line 42, in augmentation\n",
      "    va.RandomCrop(size=(crop_height, crop_width)) if is_random_crop else va.CenterCrop(),\n",
      "TypeError: __init__() missing 1 required positional argument: 'size'\n"
     ]
    },
    {
     "name": "stdout",
     "output_type": "stream",
     "text": [
      "file augmentation error，filename: lee7.mp4.\n",
      "\n",
      "\n",
      "\n"
     ]
    },
    {
     "name": "stderr",
     "output_type": "stream",
     "text": [
      "Traceback (most recent call last):\n",
      "  File \"C:\\Users\\mechl\\AppData\\Local\\Temp\\ipykernel_1576\\203793542.py\", line 12, in <module>\n",
      "    augmentation(file_path, target_path, is_random_crop=False)\n",
      "  File \"C:\\Users\\mechl\\AppData\\Local\\Temp\\ipykernel_1576\\3418852206.py\", line 42, in augmentation\n",
      "    va.RandomCrop(size=(crop_height, crop_width)) if is_random_crop else va.CenterCrop(),\n",
      "TypeError: __init__() missing 1 required positional argument: 'size'\n"
     ]
    },
    {
     "name": "stdout",
     "output_type": "stream",
     "text": [
      "file augmentation error，filename: lee8.mp4.\n",
      "\n",
      "\n",
      "\n"
     ]
    },
    {
     "name": "stderr",
     "output_type": "stream",
     "text": [
      "Traceback (most recent call last):\n",
      "  File \"C:\\Users\\mechl\\AppData\\Local\\Temp\\ipykernel_1576\\203793542.py\", line 12, in <module>\n",
      "    augmentation(file_path, target_path, is_random_crop=False)\n",
      "  File \"C:\\Users\\mechl\\AppData\\Local\\Temp\\ipykernel_1576\\3418852206.py\", line 42, in augmentation\n",
      "    va.RandomCrop(size=(crop_height, crop_width)) if is_random_crop else va.CenterCrop(),\n",
      "TypeError: __init__() missing 1 required positional argument: 'size'\n"
     ]
    },
    {
     "name": "stdout",
     "output_type": "stream",
     "text": [
      "file augmentation error，filename: lee9.mp4.\n",
      "\n",
      "\n",
      "\n"
     ]
    },
    {
     "name": "stderr",
     "output_type": "stream",
     "text": [
      "Traceback (most recent call last):\n",
      "  File \"C:\\Users\\mechl\\AppData\\Local\\Temp\\ipykernel_1576\\203793542.py\", line 12, in <module>\n",
      "    augmentation(file_path, target_path, is_random_crop=False)\n",
      "  File \"C:\\Users\\mechl\\AppData\\Local\\Temp\\ipykernel_1576\\3418852206.py\", line 42, in augmentation\n",
      "    va.RandomCrop(size=(crop_height, crop_width)) if is_random_crop else va.CenterCrop(),\n",
      "TypeError: __init__() missing 1 required positional argument: 'size'\n"
     ]
    },
    {
     "name": "stdout",
     "output_type": "stream",
     "text": [
      "file augmentation error，filename: meishaonv.mp4.\n",
      "\n",
      "\n",
      "\n"
     ]
    },
    {
     "name": "stderr",
     "output_type": "stream",
     "text": [
      "Traceback (most recent call last):\n",
      "  File \"C:\\Users\\mechl\\AppData\\Local\\Temp\\ipykernel_1576\\203793542.py\", line 12, in <module>\n",
      "    augmentation(file_path, target_path, is_random_crop=False)\n",
      "  File \"C:\\Users\\mechl\\AppData\\Local\\Temp\\ipykernel_1576\\3418852206.py\", line 42, in augmentation\n",
      "    va.RandomCrop(size=(crop_height, crop_width)) if is_random_crop else va.CenterCrop(),\n",
      "TypeError: __init__() missing 1 required positional argument: 'size'\n"
     ]
    },
    {
     "name": "stdout",
     "output_type": "stream",
     "text": [
      "file augmentation error，filename: nilong.mp4.\n",
      "\n",
      "\n",
      "\n"
     ]
    },
    {
     "name": "stderr",
     "output_type": "stream",
     "text": [
      "Traceback (most recent call last):\n",
      "  File \"C:\\Users\\mechl\\AppData\\Local\\Temp\\ipykernel_1576\\203793542.py\", line 12, in <module>\n",
      "    augmentation(file_path, target_path, is_random_crop=False)\n",
      "  File \"C:\\Users\\mechl\\AppData\\Local\\Temp\\ipykernel_1576\\3418852206.py\", line 42, in augmentation\n",
      "    va.RandomCrop(size=(crop_height, crop_width)) if is_random_crop else va.CenterCrop(),\n",
      "TypeError: __init__() missing 1 required positional argument: 'size'\n"
     ]
    },
    {
     "name": "stdout",
     "output_type": "stream",
     "text": [
      "file augmentation error，filename: nvban.mp4.\n",
      "\n",
      "\n",
      "\n"
     ]
    },
    {
     "name": "stderr",
     "output_type": "stream",
     "text": [
      "Traceback (most recent call last):\n",
      "  File \"C:\\Users\\mechl\\AppData\\Local\\Temp\\ipykernel_1576\\203793542.py\", line 12, in <module>\n",
      "    augmentation(file_path, target_path, is_random_crop=False)\n",
      "  File \"C:\\Users\\mechl\\AppData\\Local\\Temp\\ipykernel_1576\\3418852206.py\", line 42, in augmentation\n",
      "    va.RandomCrop(size=(crop_height, crop_width)) if is_random_crop else va.CenterCrop(),\n",
      "TypeError: __init__() missing 1 required positional argument: 'size'\n"
     ]
    },
    {
     "name": "stdout",
     "output_type": "stream",
     "text": [
      "file augmentation error，filename: nvikun.mp4.\n",
      "\n",
      "\n",
      "\n"
     ]
    },
    {
     "name": "stderr",
     "output_type": "stream",
     "text": [
      "Traceback (most recent call last):\n",
      "  File \"C:\\Users\\mechl\\AppData\\Local\\Temp\\ipykernel_1576\\203793542.py\", line 12, in <module>\n",
      "    augmentation(file_path, target_path, is_random_crop=False)\n",
      "  File \"C:\\Users\\mechl\\AppData\\Local\\Temp\\ipykernel_1576\\3418852206.py\", line 42, in augmentation\n",
      "    va.RandomCrop(size=(crop_height, crop_width)) if is_random_crop else va.CenterCrop(),\n",
      "TypeError: __init__() missing 1 required positional argument: 'size'\n"
     ]
    },
    {
     "name": "stdout",
     "output_type": "stream",
     "text": [
      "file augmentation error，filename: nvlianxisheng.mp4.\n",
      "\n",
      "\n",
      "\n"
     ]
    },
    {
     "name": "stderr",
     "output_type": "stream",
     "text": [
      "Traceback (most recent call last):\n",
      "  File \"C:\\Users\\mechl\\AppData\\Local\\Temp\\ipykernel_1576\\203793542.py\", line 12, in <module>\n",
      "    augmentation(file_path, target_path, is_random_crop=False)\n",
      "  File \"C:\\Users\\mechl\\AppData\\Local\\Temp\\ipykernel_1576\\3418852206.py\", line 42, in augmentation\n",
      "    va.RandomCrop(size=(crop_height, crop_width)) if is_random_crop else va.CenterCrop(),\n",
      "TypeError: __init__() missing 1 required positional argument: 'size'\n"
     ]
    },
    {
     "name": "stdout",
     "output_type": "stream",
     "text": [
      "file augmentation error，filename: shenzhi2.mp4.\n",
      "\n",
      "\n",
      "\n"
     ]
    },
    {
     "name": "stderr",
     "output_type": "stream",
     "text": [
      "Traceback (most recent call last):\n",
      "  File \"C:\\Users\\mechl\\AppData\\Local\\Temp\\ipykernel_1576\\203793542.py\", line 12, in <module>\n",
      "    augmentation(file_path, target_path, is_random_crop=False)\n",
      "  File \"C:\\Users\\mechl\\AppData\\Local\\Temp\\ipykernel_1576\\3418852206.py\", line 42, in augmentation\n",
      "    va.RandomCrop(size=(crop_height, crop_width)) if is_random_crop else va.CenterCrop(),\n",
      "TypeError: __init__() missing 1 required positional argument: 'size'\n"
     ]
    },
    {
     "name": "stdout",
     "output_type": "stream",
     "text": [
      "file augmentation error，filename: sop1.mp4.\n",
      "\n",
      "\n",
      "\n"
     ]
    },
    {
     "name": "stderr",
     "output_type": "stream",
     "text": [
      "Traceback (most recent call last):\n",
      "  File \"C:\\Users\\mechl\\AppData\\Local\\Temp\\ipykernel_1576\\203793542.py\", line 12, in <module>\n",
      "    augmentation(file_path, target_path, is_random_crop=False)\n",
      "  File \"C:\\Users\\mechl\\AppData\\Local\\Temp\\ipykernel_1576\\3418852206.py\", line 42, in augmentation\n",
      "    va.RandomCrop(size=(crop_height, crop_width)) if is_random_crop else va.CenterCrop(),\n",
      "TypeError: __init__() missing 1 required positional argument: 'size'\n"
     ]
    },
    {
     "name": "stdout",
     "output_type": "stream",
     "text": [
      "file augmentation error，filename: sop2.mp4.\n",
      "\n",
      "\n",
      "\n"
     ]
    },
    {
     "name": "stderr",
     "output_type": "stream",
     "text": [
      "Traceback (most recent call last):\n",
      "  File \"C:\\Users\\mechl\\AppData\\Local\\Temp\\ipykernel_1576\\203793542.py\", line 12, in <module>\n",
      "    augmentation(file_path, target_path, is_random_crop=False)\n",
      "  File \"C:\\Users\\mechl\\AppData\\Local\\Temp\\ipykernel_1576\\3418852206.py\", line 42, in augmentation\n",
      "    va.RandomCrop(size=(crop_height, crop_width)) if is_random_crop else va.CenterCrop(),\n",
      "TypeError: __init__() missing 1 required positional argument: 'size'\n"
     ]
    },
    {
     "name": "stdout",
     "output_type": "stream",
     "text": [
      "file augmentation error，filename: tangxiaov.mp4.\n",
      "\n",
      "\n",
      "\n"
     ]
    },
    {
     "name": "stderr",
     "output_type": "stream",
     "text": [
      "Traceback (most recent call last):\n",
      "  File \"C:\\Users\\mechl\\AppData\\Local\\Temp\\ipykernel_1576\\203793542.py\", line 12, in <module>\n",
      "    augmentation(file_path, target_path, is_random_crop=False)\n",
      "  File \"C:\\Users\\mechl\\AppData\\Local\\Temp\\ipykernel_1576\\3418852206.py\", line 42, in augmentation\n",
      "    va.RandomCrop(size=(crop_height, crop_width)) if is_random_crop else va.CenterCrop(),\n",
      "TypeError: __init__() missing 1 required positional argument: 'size'\n"
     ]
    },
    {
     "name": "stdout",
     "output_type": "stream",
     "text": [
      "file augmentation error，filename: tieshankao.mp4.\n",
      "\n",
      "\n",
      "\n"
     ]
    },
    {
     "name": "stderr",
     "output_type": "stream",
     "text": [
      "Traceback (most recent call last):\n",
      "  File \"C:\\Users\\mechl\\AppData\\Local\\Temp\\ipykernel_1576\\203793542.py\", line 12, in <module>\n",
      "    augmentation(file_path, target_path, is_random_crop=False)\n",
      "  File \"C:\\Users\\mechl\\AppData\\Local\\Temp\\ipykernel_1576\\3418852206.py\", line 42, in augmentation\n",
      "    va.RandomCrop(size=(crop_height, crop_width)) if is_random_crop else va.CenterCrop(),\n",
      "TypeError: __init__() missing 1 required positional argument: 'size'\n"
     ]
    },
    {
     "name": "stdout",
     "output_type": "stream",
     "text": [
      "file augmentation error，filename: tongxue.mp4.\n",
      "\n",
      "\n",
      "\n"
     ]
    },
    {
     "name": "stderr",
     "output_type": "stream",
     "text": [
      "Traceback (most recent call last):\n",
      "  File \"C:\\Users\\mechl\\AppData\\Local\\Temp\\ipykernel_1576\\203793542.py\", line 12, in <module>\n",
      "    augmentation(file_path, target_path, is_random_crop=False)\n",
      "  File \"C:\\Users\\mechl\\AppData\\Local\\Temp\\ipykernel_1576\\3418852206.py\", line 42, in augmentation\n",
      "    va.RandomCrop(size=(crop_height, crop_width)) if is_random_crop else va.CenterCrop(),\n",
      "TypeError: __init__() missing 1 required positional argument: 'size'\n"
     ]
    },
    {
     "name": "stdout",
     "output_type": "stream",
     "text": [
      "file augmentation error，filename: xiang.mp4.\n",
      "\n",
      "\n",
      "\n"
     ]
    },
    {
     "name": "stderr",
     "output_type": "stream",
     "text": [
      "Traceback (most recent call last):\n",
      "  File \"C:\\Users\\mechl\\AppData\\Local\\Temp\\ipykernel_1576\\203793542.py\", line 12, in <module>\n",
      "    augmentation(file_path, target_path, is_random_crop=False)\n",
      "  File \"C:\\Users\\mechl\\AppData\\Local\\Temp\\ipykernel_1576\\3418852206.py\", line 42, in augmentation\n",
      "    va.RandomCrop(size=(crop_height, crop_width)) if is_random_crop else va.CenterCrop(),\n",
      "TypeError: __init__() missing 1 required positional argument: 'size'\n"
     ]
    },
    {
     "name": "stdout",
     "output_type": "stream",
     "text": [
      "file augmentation error，filename: xianzaiqiang.mp4.\n",
      "\n",
      "\n",
      "\n"
     ]
    },
    {
     "name": "stderr",
     "output_type": "stream",
     "text": [
      "Traceback (most recent call last):\n",
      "  File \"C:\\Users\\mechl\\AppData\\Local\\Temp\\ipykernel_1576\\203793542.py\", line 12, in <module>\n",
      "    augmentation(file_path, target_path, is_random_crop=False)\n",
      "  File \"C:\\Users\\mechl\\AppData\\Local\\Temp\\ipykernel_1576\\3418852206.py\", line 42, in augmentation\n",
      "    va.RandomCrop(size=(crop_height, crop_width)) if is_random_crop else va.CenterCrop(),\n",
      "TypeError: __init__() missing 1 required positional argument: 'size'\n"
     ]
    },
    {
     "name": "stdout",
     "output_type": "stream",
     "text": [
      "file augmentation error，filename: xiaoikun.mp4.\n",
      "\n",
      "\n",
      "\n"
     ]
    },
    {
     "name": "stderr",
     "output_type": "stream",
     "text": [
      "Traceback (most recent call last):\n",
      "  File \"C:\\Users\\mechl\\AppData\\Local\\Temp\\ipykernel_1576\\203793542.py\", line 12, in <module>\n",
      "    augmentation(file_path, target_path, is_random_crop=False)\n",
      "  File \"C:\\Users\\mechl\\AppData\\Local\\Temp\\ipykernel_1576\\3418852206.py\", line 42, in augmentation\n",
      "    va.RandomCrop(size=(crop_height, crop_width)) if is_random_crop else va.CenterCrop(),\n",
      "TypeError: __init__() missing 1 required positional argument: 'size'\n"
     ]
    },
    {
     "name": "stdout",
     "output_type": "stream",
     "text": [
      "file augmentation error，filename: xiaoxiaozhiyin.mp4.\n",
      "\n",
      "\n",
      "\n"
     ]
    },
    {
     "name": "stderr",
     "output_type": "stream",
     "text": [
      "Traceback (most recent call last):\n",
      "  File \"C:\\Users\\mechl\\AppData\\Local\\Temp\\ipykernel_1576\\203793542.py\", line 12, in <module>\n",
      "    augmentation(file_path, target_path, is_random_crop=False)\n",
      "  File \"C:\\Users\\mechl\\AppData\\Local\\Temp\\ipykernel_1576\\3418852206.py\", line 42, in augmentation\n",
      "    va.RandomCrop(size=(crop_height, crop_width)) if is_random_crop else va.CenterCrop(),\n",
      "TypeError: __init__() missing 1 required positional argument: 'size'\n"
     ]
    },
    {
     "name": "stdout",
     "output_type": "stream",
     "text": [
      "file augmentation error，filename: xuxu.mp4.\n",
      "\n",
      "\n",
      "\n"
     ]
    },
    {
     "name": "stderr",
     "output_type": "stream",
     "text": [
      "Traceback (most recent call last):\n",
      "  File \"C:\\Users\\mechl\\AppData\\Local\\Temp\\ipykernel_1576\\203793542.py\", line 12, in <module>\n",
      "    augmentation(file_path, target_path, is_random_crop=False)\n",
      "  File \"C:\\Users\\mechl\\AppData\\Local\\Temp\\ipykernel_1576\\3418852206.py\", line 42, in augmentation\n",
      "    va.RandomCrop(size=(crop_height, crop_width)) if is_random_crop else va.CenterCrop(),\n",
      "TypeError: __init__() missing 1 required positional argument: 'size'\n"
     ]
    },
    {
     "name": "stdout",
     "output_type": "stream",
     "text": [
      "file augmentation error，filename: yuanban.mp4.\n",
      "\n",
      "\n",
      "\n"
     ]
    },
    {
     "name": "stderr",
     "output_type": "stream",
     "text": [
      "Traceback (most recent call last):\n",
      "  File \"C:\\Users\\mechl\\AppData\\Local\\Temp\\ipykernel_1576\\203793542.py\", line 12, in <module>\n",
      "    augmentation(file_path, target_path, is_random_crop=False)\n",
      "  File \"C:\\Users\\mechl\\AppData\\Local\\Temp\\ipykernel_1576\\3418852206.py\", line 42, in augmentation\n",
      "    va.RandomCrop(size=(crop_height, crop_width)) if is_random_crop else va.CenterCrop(),\n",
      "TypeError: __init__() missing 1 required positional argument: 'size'\n"
     ]
    },
    {
     "name": "stdout",
     "output_type": "stream",
     "text": [
      "file augmentation error，filename: zhenghuo.mp4.\n",
      "\n",
      "\n",
      "\n"
     ]
    },
    {
     "name": "stderr",
     "output_type": "stream",
     "text": [
      "Traceback (most recent call last):\n",
      "  File \"C:\\Users\\mechl\\AppData\\Local\\Temp\\ipykernel_1576\\203793542.py\", line 12, in <module>\n",
      "    augmentation(file_path, target_path, is_random_crop=False)\n",
      "  File \"C:\\Users\\mechl\\AppData\\Local\\Temp\\ipykernel_1576\\3418852206.py\", line 42, in augmentation\n",
      "    va.RandomCrop(size=(crop_height, crop_width)) if is_random_crop else va.CenterCrop(),\n",
      "TypeError: __init__() missing 1 required positional argument: 'size'\n"
     ]
    },
    {
     "name": "stdout",
     "output_type": "stream",
     "text": [
      "file augmentation error，filename: zhuiwo.mp4.\n",
      "\n",
      "\n",
      "\n"
     ]
    },
    {
     "name": "stderr",
     "output_type": "stream",
     "text": [
      "Traceback (most recent call last):\n",
      "  File \"C:\\Users\\mechl\\AppData\\Local\\Temp\\ipykernel_1576\\203793542.py\", line 12, in <module>\n",
      "    augmentation(file_path, target_path, is_random_crop=False)\n",
      "  File \"C:\\Users\\mechl\\AppData\\Local\\Temp\\ipykernel_1576\\3418852206.py\", line 42, in augmentation\n",
      "    va.RandomCrop(size=(crop_height, crop_width)) if is_random_crop else va.CenterCrop(),\n",
      "TypeError: __init__() missing 1 required positional argument: 'size'\n"
     ]
    },
    {
     "name": "stdout",
     "output_type": "stream",
     "text": [
      "file augmentation error，filename: zixue.mp4.\n",
      "\n",
      "\n",
      "\n"
     ]
    },
    {
     "name": "stderr",
     "output_type": "stream",
     "text": [
      "Traceback (most recent call last):\n",
      "  File \"C:\\Users\\mechl\\AppData\\Local\\Temp\\ipykernel_1576\\203793542.py\", line 12, in <module>\n",
      "    augmentation(file_path, target_path, is_random_crop=False)\n",
      "  File \"C:\\Users\\mechl\\AppData\\Local\\Temp\\ipykernel_1576\\3418852206.py\", line 42, in augmentation\n",
      "    va.RandomCrop(size=(crop_height, crop_width)) if is_random_crop else va.CenterCrop(),\n",
      "TypeError: __init__() missing 1 required positional argument: 'size'\n"
     ]
    }
   ],
   "source": [
    "# 对原始IKUN视频目录下的文件进行预处理\n",
    "origin_video_dir = 'F:/A_Projects/C1_CV_Projects/Projects1_TelloDroneDetection/TelloDroneDetection/TelloDroneDetection/training/ikun_video_cut'\n",
    "aug_video_dir = 'F:/A_Projects/C1_CV_Projects/Projects1_TelloDroneDetection/TelloDroneDetection/TelloDroneDetection/training/dataset/ikun'\n",
    "\n",
    "for filename in tqdm(os.listdir(origin_video_dir)):\n",
    "    file_path = os.path.join(origin_video_dir, filename)\n",
    "    target_path = os.path.join(aug_video_dir, 'aug_' + filename)\n",
    "    target_path_more = os.path.join(aug_video_dir, 'aug2_' + filename)\n",
    "    \n",
    "    try:\n",
    "        augmentation(file_path, target_path, is_random_crop=True)\n",
    "        augmentation(file_path, target_path, is_random_crop=False)\n",
    "    except Exception as e:\n",
    "        print(f'file augmentation error，filename: {filename}.\\n')\n",
    "        traceback.print_exc()\n",
    "        print('\\n')"
   ]
  },
  {
   "cell_type": "code",
   "execution_count": 113,
   "metadata": {},
   "outputs": [],
   "source": [
    "pose = mp.solutions.pose.Pose(model_complexity=MODEL_COMPLEXITY, \n",
    "                              enable_segmentation=ENABLE_SEGMENTATION,\n",
    "                              min_detection_confidence=MIN_DETECTION_CONFIDENCE,\n",
    "                              min_tracking_confidence=MIN_TRACKING_CONFIDENCE)"
   ]
  },
  {
   "cell_type": "code",
   "execution_count": 114,
   "metadata": {},
   "outputs": [],
   "source": [
    "def detect_landmark_fp(frame, mpose_model):\n",
    "    image = cv2.cvtColor(frame, cv2.COLOR_BGR2RGB)\n",
    "    result = mpose_model.process(image)\n",
    "    return result"
   ]
  },
  {
   "cell_type": "code",
   "execution_count": 115,
   "metadata": {},
   "outputs": [],
   "source": [
    "def extract_feature(vid_path, mpose_model, complex_mode=False, seq_min_nums=SEQ_LENGTH):\n",
    "    \"\"\"\n",
    "    complex_mode=True将保留所有33个关键点，否则只提取计算的肩关节中间点（1个）。\n",
    "    \"\"\"\n",
    "    \n",
    "    reserved_landmark_ids = list(range(33))\n",
    "    ret = 0\n",
    "    feature = None\n",
    "    \n",
    "    cap = cv2.VideoCapture(vid_path)\n",
    "    if not cap.isOpened():\n",
    "        print(\"Error Opening video File\")\n",
    "        raise IOError\n",
    "\n",
    "    frames = []\n",
    "    while cap.isOpened():\n",
    "        ret, frame = cap.read()\n",
    "        if ret:\n",
    "            frames.append(frame)\n",
    "        else:\n",
    "            break\n",
    "            \n",
    "    frames_cnt = len(frames)\n",
    "    cap.release()\n",
    "    cv2.destroyAllWindows()\n",
    "    \n",
    "    landmarks = [detect_landmark_fp(frame, mpose_model).pose_landmarks for frame in frames]\n",
    "    valid_landmarks = [[[landmark.x, landmark.y] for landmark in np.array(item.landmark)[reserved_landmark_ids]] for item in landmarks if item is not None]  # (N, 33, 2)\n",
    "    \n",
    "    if complex_mode:\n",
    "        valid_samples = [list(chain.from_iterable(item)) for item in valid_landmarks]\n",
    "    else:\n",
    "        valid_samples = [[(item[11][0] + item[12][0])/2, (item[11][1] + item[12][1])/2] for item in valid_landmarks]\n",
    "    \n",
    "    if len(valid_samples) >= SEQ_LENGTH:\n",
    "        ret = 1\n",
    "        begin = np.floor((len(valid_samples) - SEQ_LENGTH)/2).astype(int)\n",
    "        feature = valid_samples[begin:(begin + SEQ_LENGTH)]\n",
    "    \n",
    "    return ret, feature"
   ]
  },
  {
   "cell_type": "markdown",
   "metadata": {},
   "source": [
    "测试特征提取函数"
   ]
  },
  {
   "cell_type": "code",
   "execution_count": 116,
   "metadata": {},
   "outputs": [
    {
     "name": "stdout",
     "output_type": "stream",
     "text": [
      "60 (60, 66) [[0.5879687070846558, 0.3703956604003906, 0.576353132724762, 0.3594183921813965, 0.5690643191337585, 0.3586345314979553, 0.5615498423576355, 0.35799065232276917, 0.5937156081199646, 0.36031463742256165, 0.5988197326660156, 0.3600320518016815, 0.6036208868026733, 0.35954582691192627, 0.5463752746582031, 0.3614049553871155, 0.6010223627090454, 0.3616423010826111, 0.5754081010818481, 0.3785948157310486, 0.5951793193817139, 0.38003110885620117, 0.44560399651527405, 0.410759299993515, 0.6641756296157837, 0.42344921827316284, 0.37918826937675476, 0.5045405030250549, 0.7060667276382446, 0.524377703666687, 0.46247535943984985, 0.5534948706626892, 0.6275437474250793, 0.5664335489273071, 0.48069339990615845, 0.5697324275970459, 0.601303219795227, 0.5850774049758911, 0.4920433759689331, 0.5612290501594543, 0.5922849178314209, 0.5773671865463257, 0.48935723304748535, 0.5542972087860107, 0.5991454720497131, 0.5700910687446594, 0.4781017601490021, 0.597322404384613, 0.6036872267723083, 0.596305251121521, 0.34872496128082275, 0.7007530927658081, 0.7016056776046753, 0.6964661478996277, 0.3316839933395386, 0.8404719829559326, 0.7121524214744568, 0.8310227990150452, 0.34448882937431335, 0.8659902811050415, 0.694685697555542, 0.8529054522514343, 0.24330489337444305, 0.8442159295082092, 0.7649495005607605, 0.8400157690048218], [0.5880693793296814, 0.370553195476532, 0.576569676399231, 0.3595811724662781, 0.5693206787109375, 0.3587414026260376, 0.5618461966514587, 0.3580532968044281, 0.5938506126403809, 0.3605978786945343, 0.5989603400230408, 0.36031702160835266, 0.6037495732307434, 0.3598327338695526, 0.5467086434364319, 0.3614133298397064, 0.6012210845947266, 0.3617366552352905, 0.5755500197410583, 0.37866276502609253, 0.5953115820884705, 0.3802137076854706, 0.4457337558269501, 0.4107745289802551, 0.6643201112747192, 0.42346352338790894, 0.37924012541770935, 0.5047726035118103, 0.7060346603393555, 0.524375319480896, 0.4623393416404724, 0.5535996556282043, 0.6278555989265442, 0.5668442249298096, 0.4805123805999756, 0.5698375701904297, 0.6019930243492126, 0.5854814648628235, 0.4918259084224701, 0.5613031387329102, 0.5929089188575745, 0.577764630317688, 0.4891136586666107, 0.5543569922447205, 0.5999928712844849, 0.5704606771469116, 0.4780767858028412, 0.5976207256317139, 0.6039150953292847, 0.596439778804779, 0.3486022353172302, 0.7010658383369446, 0.701610267162323, 0.6964689493179321, 0.33168065547943115, 0.8405112624168396, 0.7121813297271729, 0.8309744596481323, 0.34443044662475586, 0.8660355806350708, 0.6949047446250916, 0.8528982400894165, 0.2433166205883026, 0.8441846966743469, 0.7649189829826355, 0.839931845664978], [0.5884290933609009, 0.37083330750465393, 0.5767380595207214, 0.3598687946796417, 0.5693761110305786, 0.35895273089408875, 0.561969518661499, 0.35819923877716064, 0.594096302986145, 0.36103376746177673, 0.5991486310958862, 0.3607599437236786, 0.6039388179779053, 0.36028245091438293, 0.5469455718994141, 0.36145254969596863, 0.6013319492340088, 0.3619600534439087, 0.5757046937942505, 0.37882959842681885, 0.5955438613891602, 0.38055187463760376, 0.44583404064178467, 0.41081899404525757, 0.6646449565887451, 0.4235401451587677, 0.37940117716789246, 0.505242109298706, 0.7059865593910217, 0.524381697177887, 0.4623611867427826, 0.5539029240608215, 0.6279172301292419, 0.5672750473022461, 0.48053446412086487, 0.5701724886894226, 0.6021379828453064, 0.5859195590019226, 0.49185389280319214, 0.5616381168365479, 0.5930072069168091, 0.5781773924827576, 0.48914092779159546, 0.5546773076057434, 0.6001178026199341, 0.5708367228507996, 0.4781120717525482, 0.5976693034172058, 0.6042640209197998, 0.5964667797088623, 0.3485831022262573, 0.7012935280799866, 0.7016289234161377, 0.6964948177337646, 0.33168190717697144, 0.8405739068984985, 0.7122069001197815, 0.8309414386749268, 0.3444359600543976, 0.8660701513290405, 0.695079505443573, 0.8528844118118286, 0.24332639575004578, 0.8442288637161255, 0.7648026943206787, 0.8398756384849548], [0.5887227654457092, 0.370920866727829, 0.5769534707069397, 0.3599587082862854, 0.5694799423217773, 0.3590046465396881, 0.5620384216308594, 0.35822147130966187, 0.594419538974762, 0.3612099587917328, 0.5994303226470947, 0.3609471023082733, 0.6042268872261047, 0.3604823350906372, 0.5470682978630066, 0.36146262288093567, 0.60136878490448, 0.3620762526988983, 0.5757973790168762, 0.37887296080589294, 0.5957302451133728, 0.3806907534599304, 0.44591233134269714, 0.41085636615753174, 0.6649912595748901, 0.42366164922714233, 0.37973812222480774, 0.5056149363517761, 0.7059328556060791, 0.5243756771087646, 0.46246978640556335, 0.5542109608650208, 0.6281574368476868, 0.567498505115509, 0.48062360286712646, 0.5705622434616089, 0.6028148531913757, 0.5862491130828857, 0.491945743560791, 0.5620791912078857, 0.5935329794883728, 0.5785216689109802, 0.4892522096633911, 0.5550633668899536, 0.6006449460983276, 0.5710552334785461, 0.47818636894226074, 0.5976836681365967, 0.6045297980308533, 0.5964815020561218, 0.3485749661922455, 0.7015742063522339, 0.7016447186470032, 0.6965125203132629, 0.33169329166412354, 0.8406655192375183, 0.7123140692710876, 0.8309089541435242, 0.34444379806518555, 0.8661282062530518, 0.6953283548355103, 0.8528652191162109, 0.24333623051643372, 0.8443514108657837, 0.7647191286087036, 0.8398472666740417], [0.5897072553634644, 0.37105000019073486, 0.5778743028640747, 0.3600761294364929, 0.5703375339508057, 0.3590890169143677, 0.5628734230995178, 0.3582811653614044, 0.5950544476509094, 0.3613647520542145, 0.5999203324317932, 0.3610949218273163, 0.6046562194824219, 0.36062780022621155, 0.5476425290107727, 0.36146754026412964, 0.6014152765274048, 0.36213648319244385, 0.5768627524375916, 0.37893423438072205, 0.5963565111160278, 0.38081106543540955, 0.44598668813705444, 0.4108901619911194, 0.6652891635894775, 0.4237593710422516, 0.3803446888923645, 0.5057432055473328, 0.7058804035186768, 0.5243739485740662, 0.46277040243148804, 0.5543688535690308, 0.6291036009788513, 0.5676050782203674, 0.4811164140701294, 0.5708602666854858, 0.6039744019508362, 0.5864979028701782, 0.49239376187324524, 0.5624029040336609, 0.5945444703102112, 0.5788246989250183, 0.48963990807533264, 0.5553046464920044, 0.6016988754272461, 0.5712383389472961, 0.4784420430660248, 0.5977019667625427, 0.6046709418296814, 0.5965484976768494, 0.3485623896121979, 0.7017370462417603, 0.701675295829773, 0.6965929269790649, 0.3317311704158783, 0.8407344222068787, 0.7124432325363159, 0.830909013748169, 0.3444828689098358, 0.8662482500076294, 0.6955851316452026, 0.8528514504432678, 0.24344679713249207, 0.8444541096687317, 0.7646796107292175, 0.8398293852806091], [0.5912122130393982, 0.3713705241680145, 0.5792481899261475, 0.36031338572502136, 0.5716312527656555, 0.359291672706604, 0.5641310214996338, 0.35846009850502014, 0.5959190726280212, 0.36159756779670715, 0.600566565990448, 0.3613012731075287, 0.6051881909370422, 0.360811710357666, 0.5484452247619629, 0.36155277490615845, 0.6015115976333618, 0.36222583055496216, 0.5786933898925781, 0.3791956603527069, 0.5973336100578308, 0.38112765550613403, 0.4460392892360687, 0.41091716289520264, 0.6655818819999695, 0.42380207777023315, 0.3810652196407318, 0.5059110522270203, 0.7058299779891968, 0.5243722796440125, 0.46340101957321167, 0.554463267326355, 0.6300274133682251, 0.5676543712615967, 0.48194020986557007, 0.5710269212722778, 0.6054286360740662, 0.5866116881370544, 0.4930887222290039, 0.5625926852226257, 0.5957381129264832, 0.57900470495224, 0.490232914686203, 0.5554760098457336, 0.60267174243927, 0.5713647603988647, 0.4788491129875183, 0.5976219177246094, 0.604857861995697, 0.5965859293937683, 0.34855541586875916, 0.701817512512207, 0.7017289400100708, 0.6967551112174988, 0.3317930996417999, 0.8407522439956665, 0.7126867175102234, 0.830933153629303, 0.34457093477249146, 0.8662741780281067, 0.6960659027099609, 0.8528826832771301, 0.24348291754722595, 0.8444675207138062, 0.7646153569221497, 0.839817464351654], [0.5922979116439819, 0.37158557772636414, 0.580215334892273, 0.36044949293136597, 0.5725739598274231, 0.35940322279930115, 0.5650915503501892, 0.3585541546344757, 0.5965467691421509, 0.36174270510673523, 0.601051926612854, 0.3614329695701599, 0.6056126952171326, 0.36092981696128845, 0.5491512417793274, 0.3615967631340027, 0.6016002893447876, 0.3622856140136719, 0.580085039138794, 0.37937501072883606, 0.5980438590049744, 0.3813489079475403, 0.44610506296157837, 0.4108926057815552, 0.6658934354782104, 0.42387276887893677, 0.38153234124183655, 0.5060167908668518, 0.7057836055755615, 0.5243708491325378, 0.46393251419067383, 0.5544888377189636, 0.630524754524231, 0.5677370429039001, 0.48248404264450073, 0.5710811018943787, 0.6064637899398804, 0.5868158340454102, 0.493583619594574, 0.562695324420929, 0.5966562628746033, 0.5792651772499084, 0.4906655251979828, 0.5555792450904846, 0.603327751159668, 0.571577787399292, 0.47902679443359375, 0.597618043422699, 0.6049160361289978, 0.5966117978096008, 0.34854796528816223, 0.7018972039222717, 0.7017884254455566, 0.6968864798545837, 0.3318047523498535, 0.8407638072967529, 0.7129858136177063, 0.8309414982795715, 0.3445826470851898, 0.8662897348403931, 0.6965774297714233, 0.852886974811554, 0.24349410831928253, 0.8444690108299255, 0.7643272876739502, 0.8397215008735657], [0.5931702256202698, 0.37183722853660583, 0.5811384916305542, 0.3606342077255249, 0.5735116600990295, 0.35955682396888733, 0.5660794377326965, 0.35868561267852783, 0.5970519185066223, 0.3619379997253418, 0.601408064365387, 0.36161187291145325, 0.6059005260467529, 0.36109045147895813, 0.5498037338256836, 0.36164620518684387, 0.6016687154769897, 0.3623462915420532, 0.58122718334198, 0.37957221269607544, 0.5984601974487305, 0.3815787732601166, 0.446364164352417, 0.41065290570259094, 0.6661164164543152, 0.4239281117916107, 0.38172250986099243, 0.5060299634933472, 0.7057437896728516, 0.5243712663650513, 0.46409645676612854, 0.5544979572296143, 0.6308169364929199, 0.5678189396858215, 0.48263052105903625, 0.57108074426651, 0.6072002649307251, 0.5870470404624939, 0.49371469020843506, 0.5627208352088928, 0.5974046587944031, 0.5795431137084961, 0.4907602369785309, 0.5555875301361084, 0.6038846969604492, 0.5718005895614624, 0.4791586399078369, 0.5976225733757019, 0.6049394607543945, 0.5967318415641785, 0.34854137897491455, 0.7019070386886597, 0.7018493413925171, 0.6969537138938904, 0.3318101763725281, 0.8407604098320007, 0.7132672071456909, 0.8309215307235718, 0.34459179639816284, 0.866280198097229, 0.6969037652015686, 0.8528841137886047, 0.2435237169265747, 0.844387412071228, 0.7638753652572632, 0.8397108316421509], [0.594048798084259, 0.372185081243515, 0.5822718739509583, 0.361046701669693, 0.5745859742164612, 0.3599357306957245, 0.5670772790908813, 0.359024316072464, 0.5977927446365356, 0.3622736930847168, 0.6019961833953857, 0.361898809671402, 0.606410562992096, 0.3613344430923462, 0.5503903031349182, 0.3618084192276001, 0.6018245220184326, 0.36249178647994995, 0.5821367502212524, 0.37984979152679443, 0.5989054441452026, 0.38183945417404175, 0.4465451240539551, 0.41037940979003906, 0.6662975549697876, 0.4239366948604584, 0.38180750608444214, 0.506011426448822, 0.7057442665100098, 0.524349570274353, 0.4642495810985565, 0.5544911623001099, 0.6312893629074097, 0.5678846836090088, 0.4829046130180359, 0.5710641145706177, 0.6079081892967224, 0.5871502757072449, 0.4939964711666107, 0.5627334117889404, 0.5981208086013794, 0.579711377620697, 0.49091750383377075, 0.5556085109710693, 0.6044335961341858, 0.5719690918922424, 0.4792805314064026, 0.5976269841194153, 0.6049452424049377, 0.5968011021614075, 0.34854036569595337, 0.7018755674362183, 0.7018681764602661, 0.6969587802886963, 0.3318147361278534, 0.8408066630363464, 0.713409960269928, 0.8299575448036194, 0.3446104824542999, 0.8662894368171692, 0.6971523761749268, 0.8520590662956238, 0.24338982999324799, 0.8443127870559692, 0.7638479471206665, 0.8396517038345337], [0.5941997766494751, 0.3725302815437317, 0.582507848739624, 0.36145859956741333, 0.5747725963592529, 0.36031728982925415, 0.567203938961029, 0.3593716025352478, 0.5980589985847473, 0.3626374304294586, 0.6022493243217468, 0.36222556233406067, 0.6066753268241882, 0.36163514852523804, 0.550424337387085, 0.36202383041381836, 0.6021220088005066, 0.36278000473976135, 0.582166850566864, 0.3801264464855194, 0.5989826321601868, 0.38209348917007446, 0.4466860592365265, 0.4101400673389435, 0.6663170456886292, 0.4239107072353363, 0.3818495273590088, 0.5058879256248474, 0.7057425379753113, 0.5243183970451355, 0.464362770318985, 0.5544450879096985, 0.6314824223518372, 0.5679615139961243, 0.4831462800502777, 0.5709016919136047, 0.6083630323410034, 0.5872162580490112, 0.4943309724330902, 0.5626954436302185, 0.5987465381622314, 0.5798273086547852, 0.49112531542778015, 0.5556195974349976, 0.6048921942710876, 0.5721267461776733, 0.47942018508911133, 0.5976765751838684, 0.6049941182136536, 0.5969022512435913, 0.34854304790496826, 0.7018105983734131, 0.7019401788711548, 0.6969636082649231, 0.3321007192134857, 0.8408467173576355, 0.713447093963623, 0.8291175961494446, 0.34501534700393677, 0.8662841320037842, 0.697298526763916, 0.8509193658828735, 0.2433464676141739, 0.8442646861076355, 0.7638281583786011, 0.8396571278572083], [0.5943438410758972, 0.3729383051395416, 0.5827078223228455, 0.36183181405067444, 0.5749377608299255, 0.36067140102386475, 0.567325234413147, 0.35972267389297485, 0.5982638597488403, 0.3629675507545471, 0.6024264693260193, 0.3625202178955078, 0.6068370938301086, 0.36190521717071533, 0.5504552721977234, 0.362301230430603, 0.6022948622703552, 0.36307209730148315, 0.582179605960846, 0.3804944157600403, 0.5990169048309326, 0.38240450620651245, 0.4469490051269531, 0.40984657406806946, 0.666350245475769, 0.42388877272605896, 0.38186201453208923, 0.5056203603744507, 0.7057180404663086, 0.5243171453475952, 0.4644663333892822, 0.5543869733810425, 0.6318150758743286, 0.5680806636810303, 0.4833749234676361, 0.5706745982170105, 0.6088269352912903, 0.5873686671257019, 0.49463552236557007, 0.5626187920570374, 0.5994316935539246, 0.5799856185913086, 0.4913463890552521, 0.5556195974349976, 0.6054471135139465, 0.572306752204895, 0.47955039143562317, 0.597767174243927, 0.6050505638122559, 0.5970693230628967, 0.3485546112060547, 0.7017189264297485, 0.7021046876907349, 0.6970037817955017, 0.3326554298400879, 0.8408547639846802, 0.7135181427001953, 0.8286392688751221, 0.3459348976612091, 0.8662218451499939, 0.6973511576652527, 0.8502655625343323, 0.24336214363574982, 0.8442124128341675, 0.764794647693634, 0.8401594758033752], [0.593661904335022, 0.37307459115982056, 0.5818187594413757, 0.36188045144081116, 0.5740722417831421, 0.36071571707725525, 0.5664480924606323, 0.35977107286453247, 0.5981600880622864, 0.363098680973053, 0.6024652123451233, 0.36267518997192383, 0.6069008111953735, 0.3620809018611908, 0.5502816438674927, 0.36246564984321594, 0.6028392314910889, 0.36349204182624817, 0.5808534622192383, 0.3806091845035553, 0.5987886190414429, 0.3826107382774353, 0.4474627375602722, 0.4094909131526947, 0.6664720177650452, 0.42395925521850586, 0.3818724453449249, 0.5054511427879333, 0.7057016491889954, 0.5243462920188904, 0.4648277759552002, 0.5542801022529602, 0.631976842880249, 0.5684813857078552, 0.4838384985923767, 0.5703147053718567, 0.6091204881668091, 0.5880062580108643, 0.49521011114120483, 0.562453031539917, 0.599736750125885, 0.5805382132530212, 0.49183088541030884, 0.55560702085495, 0.6057389974594116, 0.5728998780250549, 0.47975385189056396, 0.597906231880188, 0.6051188111305237, 0.5972372889518738, 0.34853774309158325, 0.7016777396202087, 0.7022542357444763, 0.6971303820610046, 0.33356285095214844, 0.8408570885658264, 0.7135254740715027, 0.8282126188278198, 0.34735041856765747, 0.8660834431648254, 0.6973480582237244, 0.8496371507644653, 0.24404850602149963, 0.8442215323448181, 0.7657016515731812, 0.8404972553253174], [0.5925977230072021, 0.37307581305503845, 0.5802420973777771, 0.3618657886981964, 0.572621762752533, 0.3607107996940613, 0.5651063919067383, 0.3597741723060608, 0.5976558327674866, 0.36310818791389465, 0.6022902727127075, 0.3627098798751831, 0.6069074869155884, 0.36214226484298706, 0.550033688545227, 0.36259135603904724, 0.6029915809631348, 0.36382728815078735, 0.5795926451683044, 0.38061264157295227, 0.5984618663787842, 0.3826533555984497, 0.4479876756668091, 0.40914440155029297, 0.6665656566619873, 0.4244449734687805, 0.38186824321746826, 0.5052527189254761, 0.7056246399879456, 0.5245046615600586, 0.4649960398674011, 0.5542942881584167, 0.63209468126297, 0.5691487193107605, 0.48403748869895935, 0.5702858567237854, 0.6092239022254944, 0.5889928340911865, 0.49552786350250244, 0.5624513626098633, 0.5998260378837585, 0.5812909007072449, 0.49211063981056213, 0.555641233921051, 0.6058811545372009, 0.5735347867012024, 0.47975531220436096, 0.5981089472770691, 0.6050616502761841, 0.597405731678009, 0.348518431186676, 0.7016718983650208, 0.702462375164032, 0.6971400380134583, 0.33476051688194275, 0.8405448794364929, 0.7136351466178894, 0.8280184268951416, 0.349213570356369, 0.8654409646987915, 0.6974617838859558, 0.8492516279220581, 0.24640564620494843, 0.8442212343215942, 0.7658448219299316, 0.8415051102638245], [0.5915659070014954, 0.3731616735458374, 0.5789811015129089, 0.3619087338447571, 0.5714782476425171, 0.3607688248157501, 0.564071774482727, 0.35985812544822693, 0.5970529913902283, 0.36323368549346924, 0.6019518375396729, 0.3628787100315094, 0.6067513227462769, 0.36234474182128906, 0.5498026609420776, 0.36283111572265625, 0.603061854839325, 0.36420345306396484, 0.578525960445404, 0.3807339072227478, 0.5980921387672424, 0.38289785385131836, 0.448412150144577, 0.40879395604133606, 0.6666210889816284, 0.42462852597236633, 0.3818756937980652, 0.5049952864646912, 0.7056164741516113, 0.5246151089668274, 0.4650041460990906, 0.5542810559272766, 0.6322360634803772, 0.5696702599525452, 0.48400184512138367, 0.5699174404144287, 0.6095476746559143, 0.5893309116363525, 0.4955371916294098, 0.5622466802597046, 0.6002268195152283, 0.5816183686256409, 0.4921301305294037, 0.5556418299674988, 0.6061941981315613, 0.5740289688110352, 0.47968506813049316, 0.5982462763786316, 0.6050460338592529, 0.597453773021698, 0.34848445653915405, 0.7016642093658447, 0.7026535272598267, 0.6971584558486938, 0.335619181394577, 0.8401822447776794, 0.7139665484428406, 0.8276880979537964, 0.3507397174835205, 0.8648167848587036, 0.6977090835571289, 0.8487269878387451, 0.24902860820293427, 0.8442308306694031, 0.7660091519355774, 0.8423681855201721], [0.5915228128433228, 0.373288631439209, 0.5789639353752136, 0.36204802989959717, 0.571482241153717, 0.3609296679496765, 0.5640767216682434, 0.3600434958934784, 0.5969721674919128, 0.36339664459228516, 0.6018813252449036, 0.3630608022212982, 0.6067058444023132, 0.3625448942184448, 0.5497753024101257, 0.363028883934021, 0.6030421257019043, 0.3644999861717224, 0.5785003304481506, 0.3808867335319519, 0.5980753898620605, 0.38309335708618164, 0.44859910011291504, 0.4086224138736725, 0.6665595769882202, 0.42462867498397827, 0.38188251852989197, 0.504949688911438, 0.7056139707565308, 0.5247841477394104, 0.4651390314102173, 0.5542968511581421, 0.6326994299888611, 0.570859968662262, 0.4840241074562073, 0.5697893500328064, 0.6101889610290527, 0.5903393626213074, 0.495626837015152, 0.5621732473373413, 0.6008858680725098, 0.582649290561676, 0.4922561049461365, 0.5556507110595703, 0.6068796515464783, 0.5752347111701965, 0.47973769903182983, 0.5982488393783569, 0.6050534844398499, 0.5974658131599426, 0.3484906852245331, 0.7015920877456665, 0.7028207182884216, 0.697194516658783, 0.33622974157333374, 0.839759886264801, 0.7140747904777527, 0.8272501826286316, 0.35193973779678345, 0.8641630411148071, 0.6978052854537964, 0.8480518460273743, 0.25059977173805237, 0.8443283438682556, 0.7660757899284363, 0.8428598642349243], [0.5917661190032959, 0.37418749928474426, 0.5793190598487854, 0.3629068434238434, 0.5718333125114441, 0.3617793619632721, 0.564395010471344, 0.3609253764152527, 0.597011923789978, 0.36416852474212646, 0.6018968224525452, 0.36376529932022095, 0.6067157983779907, 0.3632037043571472, 0.5498064756393433, 0.3636532425880432, 0.6029199361801147, 0.3649250566959381, 0.578784704208374, 0.38176611065864563, 0.5981037616729736, 0.38385847210884094, 0.4488133490085602, 0.4085463583469391, 0.666452169418335, 0.4247468113899231, 0.3818947970867157, 0.504898726940155, 0.7049654722213745, 0.5256462693214417, 0.46502578258514404, 0.5541895031929016, 0.6327261924743652, 0.5721011757850647, 0.4837466776371002, 0.5694373250007629, 0.610586404800415, 0.5914760828018188, 0.49543648958206177, 0.561869740486145, 0.6012114882469177, 0.583722710609436, 0.49215036630630493, 0.555526614189148, 0.6071720123291016, 0.5763186812400818, 0.47969546914100647, 0.5983046293258667, 0.6050381064414978, 0.5976058840751648, 0.3485214114189148, 0.7015121579170227, 0.7028892636299133, 0.6972256302833557, 0.3364066779613495, 0.8392987847328186, 0.7143205404281616, 0.8265708684921265, 0.35228845477104187, 0.8634901642799377, 0.6978660225868225, 0.8470250964164734, 0.2517886459827423, 0.8444932103157043, 0.7667500972747803, 0.8435046076774597], [0.5909106135368347, 0.374329537153244, 0.578567624092102, 0.363066166639328, 0.571105420589447, 0.3619992434978485, 0.5635988712310791, 0.3612178564071655, 0.5965448021888733, 0.36431488394737244, 0.601561963558197, 0.3639395534992218, 0.6064601540565491, 0.36341604590415955, 0.5490632057189941, 0.36412450671195984, 0.6029195785522461, 0.36537110805511475, 0.5780760645866394, 0.38201257586479187, 0.5975013971328735, 0.3841084837913513, 0.44883325695991516, 0.40855467319488525, 0.6663891673088074, 0.42527708411216736, 0.38193732500076294, 0.5049416422843933, 0.7037585973739624, 0.5271811485290527, 0.4649772644042969, 0.5542013645172119, 0.6326546669006348, 0.5741714239120483, 0.48357272148132324, 0.5694134831428528, 0.6105907559394836, 0.5924814939498901, 0.4952690303325653, 0.5618534088134766, 0.6012025475502014, 0.5849151015281677, 0.49205100536346436, 0.5555385947227478, 0.6071611046791077, 0.5777812600135803, 0.4796794056892395, 0.5984552502632141, 0.6049181222915649, 0.5977848172187805, 0.34854257106781006, 0.7015089392662048, 0.7029321789741516, 0.6972715854644775, 0.33660265803337097, 0.8389939069747925, 0.7145144939422607, 0.8257121443748474, 0.3526931703090668, 0.8629791140556335, 0.6979710459709167, 0.8462560772895813, 0.25236597657203674, 0.8446390628814697, 0.7668662071228027, 0.8437735438346863], [0.5895023345947266, 0.3743283450603485, 0.5772398710250854, 0.3630771338939667, 0.5697238445281982, 0.36203643679618835, 0.5621281862258911, 0.3612883687019348, 0.5958401560783386, 0.36432307958602905, 0.6010829210281372, 0.363960862159729, 0.6061213612556458, 0.3634582757949829, 0.54805588722229, 0.36436226963996887, 0.6029337048530579, 0.3655645251274109, 0.5765246748924255, 0.38201814889907837, 0.5968208312988281, 0.38415247201919556, 0.4488610327243805, 0.40855804085731506, 0.6663177609443665, 0.4258057177066803, 0.3819446265697479, 0.5050032734870911, 0.7019856572151184, 0.5283896923065186, 0.46496227383613586, 0.5542446970939636, 0.6319778561592102, 0.5754126906394958, 0.48357024788856506, 0.5694392919540405, 0.6102679967880249, 0.5930404663085938, 0.4952612519264221, 0.5618722438812256, 0.6005313396453857, 0.5855831503868103, 0.49204960465431213, 0.5555734634399414, 0.6064890623092651, 0.578462541103363, 0.47973379492759705, 0.598547637462616, 0.604835569858551, 0.5977984666824341, 0.3485678434371948, 0.7015126943588257, 0.703023374080658, 0.6974908709526062, 0.3367573916912079, 0.8388181328773499, 0.7145809531211853, 0.8251311182975769, 0.3530687987804413, 0.8627361059188843, 0.6980125308036804, 0.8458364009857178, 0.25266340374946594, 0.8448241353034973, 0.767012357711792, 0.844082236289978], [0.58885657787323, 0.3743460774421692, 0.5765552520751953, 0.3631506562232971, 0.5690538287162781, 0.3621571362018585, 0.5614522099494934, 0.36145612597465515, 0.5953302979469299, 0.3643980920314789, 0.6006872057914734, 0.3640746474266052, 0.6058029532432556, 0.3636210560798645, 0.5475371479988098, 0.36470097303390503, 0.6029016375541687, 0.3659060299396515, 0.5759250521659851, 0.3820880055427551, 0.5965123176574707, 0.38425853848457336, 0.44888532161712646, 0.4085586965084076, 0.6659954786300659, 0.4264133870601654, 0.381676584482193, 0.5050365924835205, 0.700630784034729, 0.5291918516159058, 0.46493855118751526, 0.5542896389961243, 0.6316467523574829, 0.5763577818870544, 0.48350790143013, 0.5694319009780884, 0.6101154088973999, 0.593687117099762, 0.4951866865158081, 0.5618730783462524, 0.6000595092773438, 0.5861362218856812, 0.49202167987823486, 0.5556135773658752, 0.6060198545455933, 0.578995406627655, 0.4797559976577759, 0.5991424918174744, 0.6047643423080444, 0.597947359085083, 0.34863367676734924, 0.7015907764434814, 0.7030891180038452, 0.6975335478782654, 0.33702221512794495, 0.8387587666511536, 0.7146267294883728, 0.8247494101524353, 0.35347503423690796, 0.8626257181167603, 0.6981000900268555, 0.8457311391830444, 0.25346824526786804, 0.844840407371521, 0.7670643329620361, 0.8441026210784912], [0.588021993637085, 0.37470340728759766, 0.5758829116821289, 0.3636130392551422, 0.5684691667556763, 0.3626589775085449, 0.5609392523765564, 0.361988365650177, 0.5946043133735657, 0.36492642760276794, 0.6000247597694397, 0.3646562397480011, 0.6051581501960754, 0.36424386501312256, 0.5470776557922363, 0.3652305603027344, 0.6025204658508301, 0.36649325489997864, 0.5752630233764648, 0.3824772834777832, 0.5958449840545654, 0.3847191035747528, 0.4487993121147156, 0.4085620939731598, 0.6649531722068787, 0.4270731508731842, 0.38158655166625977, 0.5050426125526428, 0.6998023986816406, 0.5298936367034912, 0.46449270844459534, 0.5542916059494019, 0.6316854953765869, 0.5766220092773438, 0.4826548397541046, 0.5693620443344116, 0.6101075410842896, 0.5938814878463745, 0.4943065941333771, 0.561855673789978, 0.60002201795578, 0.586333155632019, 0.49120190739631653, 0.5556182265281677, 0.6060273051261902, 0.5791548490524292, 0.47934967279434204, 0.5996713638305664, 0.604349672794342, 0.5981920957565308, 0.3491894602775574, 0.7016751766204834, 0.7031009197235107, 0.6975678205490112, 0.3372596800327301, 0.8387328386306763, 0.714640736579895, 0.824228048324585, 0.35369810461997986, 0.8624846935272217, 0.6981149911880493, 0.8451991677284241, 0.25447407364845276, 0.8448847532272339, 0.7676734328269958, 0.8444201946258545], [0.586173951625824, 0.3749176859855652, 0.5747325420379639, 0.3639332056045532, 0.567496120929718, 0.36300480365753174, 0.5601038932800293, 0.36233246326446533, 0.5931844711303711, 0.3652443289756775, 0.5986226797103882, 0.3649995028972626, 0.6037571430206299, 0.3646092414855957, 0.546200692653656, 0.36551839113235474, 0.6013011932373047, 0.36680901050567627, 0.5735615491867065, 0.3827289640903473, 0.5935723781585693, 0.3849049508571625, 0.44808685779571533, 0.4086054265499115, 0.6623584032058716, 0.4274367690086365, 0.38145071268081665, 0.5051354765892029, 0.6986080408096313, 0.5301032066345215, 0.4640241861343384, 0.5542766451835632, 0.6316962838172913, 0.5770759582519531, 0.481710821390152, 0.5693119168281555, 0.6101006269454956, 0.5940682291984558, 0.4935773015022278, 0.5618520975112915, 0.5999995470046997, 0.586567759513855, 0.49051475524902344, 0.555621862411499, 0.6060196757316589, 0.5794370174407959, 0.47867053747177124, 0.6005246043205261, 0.6037060022354126, 0.598604142665863, 0.3504422605037689, 0.7025288939476013, 0.7031154632568359, 0.6978490352630615, 0.33732911944389343, 0.8389314413070679, 0.7146514058113098, 0.8238976001739502, 0.35368308424949646, 0.8627545237541199, 0.6981277465820312, 0.8447737097740173, 0.2548525333404541, 0.8450300693511963, 0.7679076194763184, 0.8443440794944763], [0.5845544338226318, 0.37523478269577026, 0.5735267400741577, 0.3642267882823944, 0.5664278268814087, 0.3633701503276825, 0.5591244697570801, 0.36273297667503357, 0.5916891694068909, 0.36546754837036133, 0.5971311926841736, 0.36524978280067444, 0.6022502183914185, 0.36487987637519836, 0.5450019836425781, 0.3660488426685333, 0.5999755263328552, 0.3672638237476349, 0.572339653968811, 0.38328486680984497, 0.5916725993156433, 0.3852843940258026, 0.4464908242225647, 0.4089696705341339, 0.6596441864967346, 0.4282612204551697, 0.38143086433410645, 0.5053085684776306, 0.6958740949630737, 0.5306801795959473, 0.46400681138038635, 0.5543047189712524, 0.6312359571456909, 0.5777342915534973, 0.48157456517219543, 0.5692824721336365, 0.6099214553833008, 0.5943092703819275, 0.49350929260253906, 0.561850368976593, 0.599808931350708, 0.5869892239570618, 0.4904642105102539, 0.5556668043136597, 0.6056656837463379, 0.5798574090003967, 0.47827091813087463, 0.6012827754020691, 0.6031529903411865, 0.5991146564483643, 0.3512962758541107, 0.7027114033699036, 0.7029276490211487, 0.6981476545333862, 0.33721643686294556, 0.8389387130737305, 0.714570939540863, 0.823933482170105, 0.35310807824134827, 0.8627602458000183, 0.6981914043426514, 0.8448132872581482, 0.25480732321739197, 0.8450328707695007, 0.7672112584114075, 0.8425782322883606], [0.5811793804168701, 0.3764757812023163, 0.5705231428146362, 0.3654274642467499, 0.5635634660720825, 0.3646966516971588, 0.5564354658126831, 0.364128053188324, 0.5886629223823547, 0.3664591908454895, 0.5944584012031555, 0.36626115441322327, 0.5998892188072205, 0.3659108281135559, 0.5426516532897949, 0.367559552192688, 0.5984504818916321, 0.36837413907051086, 0.5699576139450073, 0.38453853130340576, 0.5889566540718079, 0.38633081316947937, 0.4450293779373169, 0.40941184759140015, 0.6581872701644897, 0.42871788144111633, 0.3815469443798065, 0.5060068368911743, 0.6936972737312317, 0.5312845706939697, 0.46427908539772034, 0.5543059706687927, 0.6307247877120972, 0.577880859375, 0.48167887330055237, 0.5690696835517883, 0.6097322106361389, 0.5942894816398621, 0.49372348189353943, 0.5617175698280334, 0.5996866226196289, 0.5870824456214905, 0.4906669855117798, 0.5556685924530029, 0.6053036451339722, 0.5799591541290283, 0.4779830873012543, 0.6019453406333923, 0.6029835343360901, 0.59974205493927, 0.3526359796524048, 0.7027952671051025, 0.7027031183242798, 0.6992422342300415, 0.337158739566803, 0.8390039205551147, 0.7145651578903198, 0.8244948983192444, 0.35251787304878235, 0.8628240823745728, 0.6982500553131104, 0.8449190258979797, 0.25333172082901, 0.8441919684410095, 0.7674357891082764, 0.8425769805908203], [0.5785608291625977, 0.3765755593776703, 0.5683779120445251, 0.36561325192451477, 0.5615858435630798, 0.3649439811706543, 0.5546233057975769, 0.3644242584705353, 0.5860046148300171, 0.3665243089199066, 0.5917659401893616, 0.36632904410362244, 0.5971623659133911, 0.3659866452217102, 0.5411529541015625, 0.3680087924003601, 0.5961756706237793, 0.3685998022556305, 0.5681769251823425, 0.38473060727119446, 0.5865889191627502, 0.386379599571228, 0.44371360540390015, 0.4094771146774292, 0.6554810404777527, 0.4290667772293091, 0.3815551996231079, 0.5063806772232056, 0.6925513744354248, 0.5314968824386597, 0.46430185437202454, 0.5541123747825623, 0.6306843161582947, 0.5778948664665222, 0.4816690981388092, 0.5685600638389587, 0.6098271012306213, 0.5942946076393127, 0.49376848340034485, 0.5614740252494812, 0.599753737449646, 0.5871576070785522, 0.4907292127609253, 0.5555617809295654, 0.6053101420402527, 0.5800379514694214, 0.47764626145362854, 0.6025434732437134, 0.6026931405067444, 0.6003060936927795, 0.35381758213043213, 0.7031008005142212, 0.7020171284675598, 0.6996949315071106, 0.3370867073535919, 0.8395153284072876, 0.714631199836731, 0.8254328370094299, 0.3517797291278839, 0.8635362386703491, 0.6984887719154358, 0.8452174663543701, 0.2519569993019104, 0.8439661860466003, 0.7678097486495972, 0.8426088094711304], [0.572100818157196, 0.37673938274383545, 0.562317967414856, 0.3659380078315735, 0.5558788180351257, 0.3653945326805115, 0.5493613481521606, 0.36497223377227783, 0.5796468257904053, 0.3666161894798279, 0.585583508014679, 0.3664020597934723, 0.5913281440734863, 0.36606565117836, 0.5366477966308594, 0.3687366247177124, 0.5925697088241577, 0.3688604533672333, 0.5631268620491028, 0.38499021530151367, 0.5811346173286438, 0.3864055573940277, 0.4422384798526764, 0.4096454977989197, 0.6529462933540344, 0.42943307757377625, 0.38156062364578247, 0.5068401098251343, 0.690489649772644, 0.531912624835968, 0.46437788009643555, 0.5538886785507202, 0.6308057308197021, 0.5768798589706421, 0.4816708564758301, 0.5677822828292847, 0.6100913882255554, 0.5936805605888367, 0.4937903583049774, 0.5610918402671814, 0.600200891494751, 0.5869168639183044, 0.49076005816459656, 0.555448591709137, 0.6056390404701233, 0.5797086954116821, 0.4773421585559845, 0.6029587388038635, 0.6026055812835693, 0.6007481217384338, 0.3544398248195648, 0.7030993700027466, 0.7014813423156738, 0.6997337937355042, 0.33712038397789, 0.8394704461097717, 0.7146247625350952, 0.8255142569541931, 0.35178908705711365, 0.8634549975395203, 0.6986507773399353, 0.8452417254447937, 0.2522876262664795, 0.8437789082527161, 0.7670459151268005, 0.8422162532806396], [0.5697125196456909, 0.37667447328567505, 0.5601016879081726, 0.3659253418445587, 0.5536717772483826, 0.3653712272644043, 0.5471646785736084, 0.3649478256702423, 0.5771667957305908, 0.366478830575943, 0.5830179452896118, 0.36625710129737854, 0.5888252258300781, 0.3659341633319855, 0.5340186357498169, 0.3687795400619507, 0.5905805230140686, 0.36884334683418274, 0.5608055591583252, 0.38497501611709595, 0.5786654353141785, 0.3862578570842743, 0.4409842789173126, 0.40970727801322937, 0.6513078808784485, 0.42948102951049805, 0.38156166672706604, 0.5071726441383362, 0.6880912780761719, 0.5319682955741882, 0.4649798274040222, 0.5529290437698364, 0.6305190324783325, 0.5751262903213501, 0.4821712374687195, 0.5660799741744995, 0.60996013879776, 0.5927546620368958, 0.49424150586128235, 0.5596579313278198, 0.6001636385917664, 0.5863361358642578, 0.49118679761886597, 0.5544820427894592, 0.6054086089134216, 0.5788444876670837, 0.47692081332206726, 0.6030232906341553, 0.6025006771087646, 0.6009015440940857, 0.3551635146141052, 0.7030155658721924, 0.7009689807891846, 0.6997084021568298, 0.33729806542396545, 0.8393363356590271, 0.7147870659828186, 0.8257142901420593, 0.35183918476104736, 0.8634520173072815, 0.6993194222450256, 0.8452573418617249, 0.25188979506492615, 0.8441682457923889, 0.7670858502388, 0.8420402407646179], [0.5664734840393066, 0.3765932023525238, 0.5567992925643921, 0.3658299744129181, 0.5504288673400879, 0.36530500650405884, 0.5440425872802734, 0.36490777134895325, 0.5738489627838135, 0.36631661653518677, 0.5796982049942017, 0.3660925328731537, 0.5855807065963745, 0.36578625440597534, 0.5309688448905945, 0.3687592148780823, 0.5879033803939819, 0.3687797784805298, 0.5571905970573425, 0.3849535584449768, 0.5750820636749268, 0.38607367873191833, 0.44008490443229675, 0.4096589684486389, 0.6494553685188293, 0.4293097257614136, 0.3814636468887329, 0.5071132183074951, 0.6866304278373718, 0.5318777561187744, 0.46543920040130615, 0.5508899092674255, 0.6284518837928772, 0.5733411908149719, 0.48376724123954773, 0.5638412833213806, 0.607926070690155, 0.5909227728843689, 0.4956229329109192, 0.5573915243148804, 0.598427951335907, 0.5842590928077698, 0.49228164553642273, 0.552383542060852, 0.6030997037887573, 0.576866090297699, 0.47647348046302795, 0.603200376033783, 0.6025111079216003, 0.6010589599609375, 0.35512569546699524, 0.7036867141723633, 0.7000767588615417, 0.6996278166770935, 0.33754971623420715, 0.8404629826545715, 0.7141228914260864, 0.8308538794517517, 0.34863758087158203, 0.8659104108810425, 0.6997653245925903, 0.8517730832099915, 0.28937721252441406, 0.8370124697685242, 0.7646605372428894, 0.8360455632209778], [0.5658349394798279, 0.3757152557373047, 0.5560269951820374, 0.3649809658527374, 0.5496963262557983, 0.36447077989578247, 0.5433553457260132, 0.3641214072704315, 0.5726694464683533, 0.3653934895992279, 0.5783872604370117, 0.3651343882083893, 0.5841599106788635, 0.3648090362548828, 0.5302646160125732, 0.3681391179561615, 0.5859793424606323, 0.3678198456764221, 0.5562915802001953, 0.38430503010749817, 0.5740372538566589, 0.3850959837436676, 0.4398152530193329, 0.4087810218334198, 0.6490354537963867, 0.428710013628006, 0.3813311457633972, 0.5063300728797913, 0.6857707500457764, 0.5304070115089417, 0.4661405086517334, 0.5479593276977539, 0.6278841495513916, 0.5705128908157349, 0.4858769178390503, 0.5600192546844482, 0.6076443791389465, 0.5892143249511719, 0.4975283443927765, 0.5537073016166687, 0.5983123183250427, 0.582319974899292, 0.49373292922973633, 0.5487688779830933, 0.6029406189918518, 0.5743316411972046, 0.476419061422348, 0.6028770208358765, 0.6025630235671997, 0.6009994149208069, 0.3555101454257965, 0.7037795186042786, 0.6996515393257141, 0.69915771484375, 0.3376029431819916, 0.841361939907074, 0.7136607766151428, 0.8327716588973999, 0.3457985818386078, 0.8672228455543518, 0.7002859711647034, 0.8538573980331421, 0.29734763503074646, 0.8342596888542175, 0.7624333500862122, 0.8337043523788452], [0.566817581653595, 0.37484660744667053, 0.556908369064331, 0.36421334743499756, 0.5505038499832153, 0.36360815167427063, 0.5440648794174194, 0.36318859457969666, 0.5735121369361877, 0.36465293169021606, 0.579058825969696, 0.36433371901512146, 0.5845499038696289, 0.3639553189277649, 0.5308626890182495, 0.3665730059146881, 0.5843518972396851, 0.36638957262039185, 0.5568450093269348, 0.3832278251647949, 0.5746597051620483, 0.38412025570869446, 0.43959107995033264, 0.4071497619152069, 0.6485908031463623, 0.42750900983810425, 0.38142114877700806, 0.5052107572555542, 0.6849613189697266, 0.5280056595802307, 0.4660026729106903, 0.5437446236610413, 0.6267192959785461, 0.5676943063735962, 0.4857885241508484, 0.5545185208320618, 0.6073718070983887, 0.5866059064865112, 0.4975157082080841, 0.5480871200561523, 0.59804767370224, 0.5794575810432434, 0.4936099052429199, 0.543530285358429, 0.6024993658065796, 0.5714892745018005, 0.47630399465560913, 0.6010190844535828, 0.6027695536613464, 0.6000596284866333, 0.3576105535030365, 0.7037321329116821, 0.6994847059249878, 0.6988096237182617, 0.3377210199832916, 0.8420431017875671, 0.7130542397499084, 0.8353862166404724, 0.3443584442138672, 0.8680976629257202, 0.7002869248390198, 0.8569813370704651, 0.2971932888031006, 0.8340141773223877, 0.7615365386009216, 0.833042562007904], [0.5678297877311707, 0.37408122420310974, 0.5575771331787109, 0.3636060655117035, 0.5513805150985718, 0.3628983497619629, 0.5451664328575134, 0.3624028265476227, 0.5737950801849365, 0.36413440108299255, 0.5792071223258972, 0.363766610622406, 0.5848917365074158, 0.3633336126804352, 0.5320753455162048, 0.36520397663116455, 0.584760844707489, 0.36516281962394714, 0.5575019121170044, 0.3820391893386841, 0.5754824876785278, 0.3834047317504883, 0.43965816497802734, 0.4038771390914917, 0.6492533683776855, 0.4244528114795685, 0.38253119587898254, 0.5013961791992188, 0.6845274567604065, 0.5254178643226624, 0.4668824076652527, 0.5396089553833008, 0.6246448159217834, 0.5626584887504578, 0.4880770742893219, 0.548810601234436, 0.6064988374710083, 0.5785594582557678, 0.499423623085022, 0.5421650409698486, 0.5973016023635864, 0.5707412362098694, 0.49489858746528625, 0.5380869507789612, 0.6014283299446106, 0.5635911822319031, 0.4784844219684601, 0.5952622294425964, 0.6045619249343872, 0.5962030291557312, 0.36051303148269653, 0.7030060887336731, 0.6996710896492004, 0.698753297328949, 0.3376794159412384, 0.8412759304046631, 0.713117241859436, 0.8347070217132568, 0.3445480167865753, 0.8675899505615234, 0.6998905539512634, 0.8576719760894775, 0.2916716933250427, 0.8346296548843384, 0.7578580379486084, 0.8340811133384705], [0.5686688423156738, 0.37059271335601807, 0.5583786368370056, 0.3600982427597046, 0.5526618957519531, 0.3591378629207611, 0.5469392538070679, 0.35840219259262085, 0.5738955736160278, 0.36105141043663025, 0.579515814781189, 0.36072009801864624, 0.5852792859077454, 0.3603150546550751, 0.534004271030426, 0.3610669672489166, 0.5851114392280579, 0.36181017756462097, 0.5592438578605652, 0.3779095709323883, 0.5757505893707275, 0.3796749413013458, 0.4403325319290161, 0.39978206157684326, 0.6504479050636292, 0.42124614119529724, 0.38576623797416687, 0.49767014384269714, 0.6843931078910828, 0.5226497054100037, 0.4701191186904907, 0.5372902154922485, 0.6221184730529785, 0.5589990615844727, 0.49139404296875, 0.5471547842025757, 0.6031010150909424, 0.5743408203125, 0.5036219954490662, 0.5400277376174927, 0.5949777960777283, 0.5659095644950867, 0.49932217597961426, 0.5357591509819031, 0.5994336605072021, 0.5585352778434753, 0.4815821945667267, 0.591547966003418, 0.6075311303138733, 0.5930591225624084, 0.36340728402137756, 0.7024611234664917, 0.6996576189994812, 0.6972841620445251, 0.3376738429069519, 0.8409339785575867, 0.7131348848342896, 0.8303863406181335, 0.34420549869537354, 0.8666486144065857, 0.6998119354248047, 0.8572728037834167, 0.29386240243911743, 0.8354017734527588, 0.7484094500541687, 0.8345211148262024], [0.5718846321105957, 0.36683356761932373, 0.5615276098251343, 0.3563810884952545, 0.5557377338409424, 0.35531628131866455, 0.5499432682991028, 0.354501336812973, 0.5769924521446228, 0.357605516910553, 0.5822188854217529, 0.3572912812232971, 0.5876470804214478, 0.35688480734825134, 0.5367790460586548, 0.35706859827041626, 0.586920976638794, 0.35820236802101135, 0.5618438124656677, 0.37359750270843506, 0.5783669352531433, 0.3756310045719147, 0.44236645102500916, 0.3954201638698578, 0.6539102792739868, 0.416780948638916, 0.390372097492218, 0.49332085251808167, 0.6839980483055115, 0.5197214484214783, 0.4706842005252838, 0.5341705083847046, 0.6223183274269104, 0.5525466799736023, 0.491801917552948, 0.5461006164550781, 0.6049843430519104, 0.5654046535491943, 0.5041011571884155, 0.5380595922470093, 0.597274899482727, 0.55709308385849, 0.4996653199195862, 0.5326783061027527, 0.6012163162231445, 0.5503730773925781, 0.4846417009830475, 0.5860392451286316, 0.61040860414505, 0.5889925360679626, 0.36899706721305847, 0.7014349699020386, 0.699613094329834, 0.6961744427680969, 0.33768996596336365, 0.8403882384300232, 0.713199257850647, 0.8281088471412659, 0.34431755542755127, 0.8660894632339478, 0.6997808218002319, 0.8557096123695374, 0.29217392206192017, 0.8371269106864929, 0.7455279231071472, 0.8346801996231079], [0.5744789242744446, 0.362272173166275, 0.5635008811950684, 0.35197263956069946, 0.5573933720588684, 0.3509017825126648, 0.5513789057731628, 0.35014182329177856, 0.580085277557373, 0.35351261496543884, 0.5854036211967468, 0.35325852036476135, 0.5908460021018982, 0.35288628935813904, 0.5390678644180298, 0.3527298867702484, 0.5911479592323303, 0.3540971875190735, 0.5636147856712341, 0.3686710000038147, 0.5813156962394714, 0.3709281384944916, 0.44638943672180176, 0.3889649510383606, 0.6589785814285278, 0.4116341173648834, 0.3948160707950592, 0.4887794256210327, 0.6838449835777283, 0.51483553647995, 0.47584444284439087, 0.5292108654975891, 0.6245829463005066, 0.542746365070343, 0.49695825576782227, 0.5415123105049133, 0.6123868823051453, 0.5542399287223816, 0.5100553035736084, 0.5332013964653015, 0.6049270629882812, 0.5465039014816284, 0.5052887797355652, 0.5277186036109924, 0.6069279909133911, 0.5404747724533081, 0.4884449243545532, 0.5797545313835144, 0.6137967109680176, 0.5831472873687744, 0.3721431791782379, 0.7004948854446411, 0.6995478272438049, 0.6947560906410217, 0.3377194404602051, 0.8405953049659729, 0.7140728235244751, 0.8274747133255005, 0.34434449672698975, 0.8669027090072632, 0.7005656361579895, 0.8548781871795654, 0.2902401387691498, 0.839236855506897, 0.7468937039375305, 0.8347406983375549], [0.5810253620147705, 0.3560134172439575, 0.5694710612297058, 0.34626156091690063, 0.5628967881202698, 0.34526997804641724, 0.5567022562026978, 0.34455177187919617, 0.5859507918357849, 0.347505658864975, 0.5911744236946106, 0.3471759259700775, 0.5966172814369202, 0.3467450439929962, 0.5451456904411316, 0.34712648391723633, 0.5974124670028687, 0.34800371527671814, 0.5708853602409363, 0.3625907897949219, 0.5883529186248779, 0.36428260803222656, 0.45088261365890503, 0.3841899335384369, 0.6644855737686157, 0.40488868951797485, 0.4006621539592743, 0.48428118228912354, 0.6843442320823669, 0.5092505812644958, 0.480619877576828, 0.5225787162780762, 0.6298516392707825, 0.5357967615127563, 0.503315806388855, 0.5334177017211914, 0.6231716871261597, 0.5459744930267334, 0.5160443782806396, 0.5249152779579163, 0.6173186898231506, 0.5379385352134705, 0.5106380581855774, 0.5201315879821777, 0.6173462867736816, 0.5321082472801208, 0.4901278018951416, 0.5741482377052307, 0.6156983971595764, 0.5776718258857727, 0.37822088599205017, 0.6985095143318176, 0.6996949911117554, 0.6928866505622864, 0.3378230035305023, 0.8401657938957214, 0.7140730023384094, 0.8272740840911865, 0.3444265127182007, 0.8666921257972717, 0.7004942893981934, 0.8546046614646912, 0.29020339250564575, 0.8393779397010803, 0.744742214679718, 0.8353767395019531], [0.5962306261062622, 0.35053321719169617, 0.5851638317108154, 0.3406166136264801, 0.5784172415733337, 0.3398391306400299, 0.5713163018226624, 0.33918988704681396, 0.5996412634849548, 0.3412072956562042, 0.6035803556442261, 0.3407537639141083, 0.6078093647956848, 0.34024715423583984, 0.558616578578949, 0.3413643538951874, 0.6066609025001526, 0.3416482210159302, 0.5864567160606384, 0.3577876091003418, 0.6013094186782837, 0.35867592692375183, 0.45719099044799805, 0.3797536790370941, 0.6702437996864319, 0.3978683650493622, 0.40633413195610046, 0.4791698455810547, 0.686793327331543, 0.50262850522995, 0.48577117919921875, 0.5162792801856995, 0.6364948153495789, 0.5300915837287903, 0.5085421204566956, 0.5270707607269287, 0.6313921213150024, 0.5404279828071594, 0.5211830139160156, 0.5184754729270935, 0.6257242560386658, 0.5331276655197144, 0.5156430602073669, 0.5137447118759155, 0.6258466243743896, 0.5273393988609314, 0.49256664514541626, 0.5691802501678467, 0.6172571182250977, 0.5711541771888733, 0.38306888937950134, 0.6970427632331848, 0.6997073292732239, 0.6899253129959106, 0.3378259241580963, 0.84023517370224, 0.7143877148628235, 0.8277198076248169, 0.3444966971874237, 0.8673396706581116, 0.7008950710296631, 0.8546712398529053, 0.2896536886692047, 0.8435488939285278, 0.7454649209976196, 0.8328859806060791], [0.6041785478591919, 0.3403177857398987, 0.593569815158844, 0.3309909701347351, 0.5863980650901794, 0.33029085397720337, 0.5787590742111206, 0.32954224944114685, 0.6083661913871765, 0.33155396580696106, 0.6120899319648743, 0.33126506209373474, 0.6160435676574707, 0.3308551609516144, 0.5665915012359619, 0.3316684067249298, 0.6150730848312378, 0.3333660960197449, 0.5945807695388794, 0.3479370176792145, 0.608802855014801, 0.3487938940525055, 0.46610715985298157, 0.37440982460975647, 0.6785942316055298, 0.39103251695632935, 0.41214001178741455, 0.47540760040283203, 0.6912437081336975, 0.49533024430274963, 0.49699509143829346, 0.5114153623580933, 0.6398192048072815, 0.523468554019928, 0.5197350382804871, 0.5228885412216187, 0.6323197484016418, 0.5354128479957581, 0.5317690968513489, 0.514147937297821, 0.6270132660865784, 0.5284441709518433, 0.5259320139884949, 0.5092512369155884, 0.6284716129302979, 0.5216559767723083, 0.49562495946884155, 0.5634390115737915, 0.6194601655006409, 0.5658424496650696, 0.38801562786102295, 0.6943739056587219, 0.7004367113113403, 0.6883761286735535, 0.3378240764141083, 0.8397491574287415, 0.7146384716033936, 0.8319329619407654, 0.344570130109787, 0.8675161004066467, 0.701505720615387, 0.8589169979095459, 0.2819378674030304, 0.8455742597579956, 0.7456092834472656, 0.8332696557044983], [0.608873188495636, 0.3307585120201111, 0.5978197455406189, 0.32186025381088257, 0.5898506045341492, 0.3212898075580597, 0.581649124622345, 0.3206143379211426, 0.6153989434242249, 0.3224982023239136, 0.6199026703834534, 0.3223755955696106, 0.6246956586837769, 0.3221709132194519, 0.5714800357818604, 0.32359588146209717, 0.6289902329444885, 0.32560989260673523, 0.5977939367294312, 0.3386983275413513, 0.6140003204345703, 0.33947405219078064, 0.47551771998405457, 0.36976805329322815, 0.6920977830886841, 0.38472843170166016, 0.41506779193878174, 0.47081899642944336, 0.6970447897911072, 0.48921430110931396, 0.49785834550857544, 0.5099605321884155, 0.6395118832588196, 0.5189871191978455, 0.52044278383255, 0.5229873061180115, 0.6305142641067505, 0.5309866070747375, 0.5331964492797852, 0.5140909552574158, 0.6246344447135925, 0.524218738079071, 0.5275387763977051, 0.5085446238517761, 0.6268298029899597, 0.5178970694541931, 0.4968600273132324, 0.5560462474822998, 0.6192996501922607, 0.5585095286369324, 0.3934149146080017, 0.6918346285820007, 0.7004682421684265, 0.684249222278595, 0.33812785148620605, 0.8400777578353882, 0.716577410697937, 0.8317593932151794, 0.3444099724292755, 0.8688434362411499, 0.7048726081848145, 0.8588463068008423, 0.2929650843143463, 0.8461096882820129, 0.7468180060386658, 0.832574725151062], [0.6238468289375305, 0.32517802715301514, 0.6143871545791626, 0.31597739458084106, 0.6061787605285645, 0.3151779770851135, 0.5977290868759155, 0.31430783867836, 0.6305513381958008, 0.31701821088790894, 0.6349124908447266, 0.3170102834701538, 0.6396141052246094, 0.316940575838089, 0.5866284370422363, 0.31694284081459045, 0.6447049379348755, 0.32073575258255005, 0.6121331453323364, 0.33261701464653015, 0.6274641156196594, 0.3334902822971344, 0.48902735114097595, 0.36703169345855713, 0.706512987613678, 0.37894731760025024, 0.4190124571323395, 0.4636421501636505, 0.710314154624939, 0.47846677899360657, 0.4965977370738983, 0.5099591612815857, 0.6395053863525391, 0.5157396197319031, 0.5153043866157532, 0.524537980556488, 0.6289659142494202, 0.527291476726532, 0.5298222303390503, 0.5166934728622437, 0.6229557394981384, 0.5211580991744995, 0.5244931578636169, 0.5101953744888306, 0.6251225471496582, 0.5154072046279907, 0.49971839785575867, 0.5480164289474487, 0.6190717816352844, 0.5504592061042786, 0.3979598879814148, 0.6893728375434875, 0.7004371881484985, 0.6812965869903564, 0.33858588337898254, 0.8373612761497498, 0.7194087505340576, 0.8325639367103577, 0.34429892897605896, 0.8663218021392822, 0.7070976495742798, 0.8601192831993103, 0.29889434576034546, 0.846350371837616, 0.7430232167243958, 0.832807183265686], [0.6509523987770081, 0.32435157895088196, 0.6440277695655823, 0.31403180956840515, 0.6374144554138184, 0.3129562437534332, 0.6296896934509277, 0.3118099868297577, 0.6568415760993958, 0.31569787859916687, 0.6603908538818359, 0.3158349096775055, 0.6642816662788391, 0.3159378468990326, 0.6138771176338196, 0.31364741921424866, 0.6649274230003357, 0.3198665678501129, 0.6396387815475464, 0.33183807134628296, 0.6523842215538025, 0.3329513967037201, 0.4977715313434601, 0.36578285694122314, 0.7160667181015015, 0.3758021593093872, 0.42451319098472595, 0.45845502614974976, 0.7281473278999329, 0.4740903675556183, 0.4879128932952881, 0.5109900832176208, 0.6474960446357727, 0.5111210942268372, 0.5025148391723633, 0.525211751461029, 0.6349750757217407, 0.5228477716445923, 0.5191197991371155, 0.5177860856056213, 0.6253520846366882, 0.5171838402748108, 0.5156890749931335, 0.511377215385437, 0.6285077929496765, 0.5112274289131165, 0.5019376277923584, 0.5454339385032654, 0.6200030446052551, 0.5473222136497498, 0.3998051881790161, 0.689759373664856, 0.7002331018447876, 0.679632842540741, 0.3380286693572998, 0.8366610407829285, 0.7220818996429443, 0.8292334675788879, 0.34314441680908203, 0.8645263314247131, 0.7102146744728088, 0.8587909936904907, 0.29603448510169983, 0.8462815880775452, 0.7425358295440674, 0.8319560885429382], [0.6688027381896973, 0.32762911915779114, 0.6621294021606445, 0.31675034761428833, 0.6558319330215454, 0.31554165482521057, 0.6485365033149719, 0.3142527639865875, 0.6744074821472168, 0.318281352519989, 0.6777321696281433, 0.31827592849731445, 0.6815172433853149, 0.31828635931015015, 0.6318280100822449, 0.3152957558631897, 0.6801048517227173, 0.32156985998153687, 0.6566654443740845, 0.33489689230918884, 0.6692163348197937, 0.33609068393707275, 0.5078059434890747, 0.3653313219547272, 0.724945068359375, 0.3764454424381256, 0.4283440411090851, 0.4541439414024353, 0.737098217010498, 0.4743562936782837, 0.4785521924495697, 0.5123723745346069, 0.649965763092041, 0.5100131630897522, 0.491546630859375, 0.5268384218215942, 0.6363329291343689, 0.5219211578369141, 0.5085504651069641, 0.5193136930465698, 0.6254759430885315, 0.5171453952789307, 0.5073685646057129, 0.5129019618034363, 0.6284602284431458, 0.5111328959465027, 0.5016728639602661, 0.542503297328949, 0.6197753548622131, 0.5460642576217651, 0.4035980701446533, 0.6852431893348694, 0.6997434496879578, 0.6804944276809692, 0.336547315120697, 0.8344495296478271, 0.7273324131965637, 0.8289136290550232, 0.3325153887271881, 0.8607649207115173, 0.7166712880134583, 0.8586357235908508, 0.30596065521240234, 0.84562087059021, 0.7614591717720032, 0.8327710628509521], [0.6842693090438843, 0.3308720290660858, 0.6771255731582642, 0.31965795159339905, 0.671240508556366, 0.31845104694366455, 0.6646166443824768, 0.31720390915870667, 0.6884570121765137, 0.32073596119880676, 0.6913455724716187, 0.32044973969459534, 0.6946200132369995, 0.3202163577079773, 0.6486545205116272, 0.3176983594894409, 0.6904022097587585, 0.3224772810935974, 0.6714890599250793, 0.3383106291294098, 0.6831451058387756, 0.33922079205513, 0.5174701809883118, 0.36441096663475037, 0.7312449216842651, 0.3779802918434143, 0.4301896095275879, 0.4505758583545685, 0.7413508296012878, 0.47664710879325867, 0.4735429883003235, 0.5127972960472107, 0.6519759297370911, 0.5117232203483582, 0.48598915338516235, 0.5278238654136658, 0.6357414722442627, 0.5234459638595581, 0.5024994611740112, 0.52027827501297, 0.6253366470336914, 0.5183209180831909, 0.5023685693740845, 0.5137280225753784, 0.6287593841552734, 0.5125204920768738, 0.5018748044967651, 0.5406829714775085, 0.6199813485145569, 0.546198844909668, 0.4084871709346771, 0.6820526719093323, 0.6983754634857178, 0.6809121370315552, 0.3365929126739502, 0.8329640030860901, 0.7268050312995911, 0.8289169073104858, 0.33239296078681946, 0.8581491112709045, 0.716033399105072, 0.8588506579399109, 0.30438122153282166, 0.8410919308662415, 0.760272741317749, 0.8329565525054932], [0.6910285353660583, 0.3324894309043884, 0.6840590238571167, 0.32182061672210693, 0.67840176820755, 0.3206329941749573, 0.6722606420516968, 0.3194083273410797, 0.6947981119155884, 0.3228453993797302, 0.6973932385444641, 0.3224717080593109, 0.7003433704376221, 0.3220912218093872, 0.6563028693199158, 0.31956902146339417, 0.6944819688796997, 0.32330936193466187, 0.677277684211731, 0.3402072787284851, 0.6879518628120422, 0.3411901891231537, 0.5213161706924438, 0.3651358485221863, 0.7339630126953125, 0.38047853112220764, 0.4307507574558258, 0.45132410526275635, 0.7438828349113464, 0.47923794388771057, 0.4737716615200043, 0.5125685930252075, 0.6517987251281738, 0.5135352611541748, 0.4867621064186096, 0.5284133553504944, 0.6349974870681763, 0.5257024765014648, 0.5031918287277222, 0.5208327174186707, 0.6246725916862488, 0.5198185443878174, 0.5030730962753296, 0.5139635801315308, 0.6280297040939331, 0.5136945247650146, 0.5034654140472412, 0.5425788760185242, 0.6198506951332092, 0.5477219223976135, 0.4095504581928253, 0.6821816563606262, 0.6983203887939453, 0.6807091236114502, 0.33683088421821594, 0.832614541053772, 0.7267894148826599, 0.8290322422981262, 0.331344336271286, 0.8573104739189148, 0.7154427766799927, 0.8587440848350525, 0.30288079380989075, 0.8413713574409485, 0.771306037902832, 0.8372846245765686], [0.6969760060310364, 0.3338409662246704, 0.6898536682128906, 0.3227842152118683, 0.6841951608657837, 0.32179883122444153, 0.6779848337173462, 0.32070523500442505, 0.6999112367630005, 0.323790967464447, 0.7021933197975159, 0.3235722780227661, 0.7047886252403259, 0.32327935099601746, 0.6595652103424072, 0.32096925377845764, 0.6967278122901917, 0.3245587944984436, 0.6829723715782166, 0.34086865186691284, 0.6928389668464661, 0.34216052293777466, 0.5209525227546692, 0.36625319719314575, 0.7346327900886536, 0.38170719146728516, 0.43078842759132385, 0.4526169002056122, 0.7457260489463806, 0.4808592200279236, 0.47515156865119934, 0.5120670199394226, 0.6527968645095825, 0.5145660042762756, 0.487343966960907, 0.5282725691795349, 0.6343497037887573, 0.5258463621139526, 0.503365695476532, 0.5206509232521057, 0.6242322325706482, 0.5195241570472717, 0.5037193298339844, 0.513689398765564, 0.6280023455619812, 0.5136606097221375, 0.5035175681114197, 0.5418720245361328, 0.6199784278869629, 0.5475853085517883, 0.40998154878616333, 0.6811379790306091, 0.6984207630157471, 0.6808115839958191, 0.33728280663490295, 0.8325650095939636, 0.7261651158332825, 0.8300535082817078, 0.33201342821121216, 0.857813835144043, 0.7130342125892639, 0.8599466681480408, 0.2948393225669861, 0.8419987559318542, 0.7687419056892395, 0.8379847407341003], [0.7012758255004883, 0.33747929334640503, 0.6949197053909302, 0.32414892315864563, 0.6897158026695251, 0.32280170917510986, 0.683962345123291, 0.32137563824653625, 0.7034316658973694, 0.32513052225112915, 0.7050750851631165, 0.3245927691459656, 0.7070297598838806, 0.32403624057769775, 0.6635922789573669, 0.3218640089035034, 0.6960262060165405, 0.3253936469554901, 0.6864624619483948, 0.34400326013565063, 0.6953473091125488, 0.34527209401130676, 0.519698977470398, 0.36710184812545776, 0.7350762486457825, 0.38258686661720276, 0.4308375120162964, 0.4536515474319458, 0.7464305758476257, 0.4820403456687927, 0.4788137376308441, 0.5121124982833862, 0.6541272401809692, 0.5157190561294556, 0.49134561419487, 0.5284698605537415, 0.6339409947395325, 0.5274180173873901, 0.5063781142234802, 0.5208579301834106, 0.6240839958190918, 0.5209261178970337, 0.5063725709915161, 0.5138241052627563, 0.6284005045890808, 0.5148147344589233, 0.5037033557891846, 0.5441247820854187, 0.6203372478485107, 0.5490481853485107, 0.408957839012146, 0.681854248046875, 0.6996960639953613, 0.6809889674186707, 0.33754265308380127, 0.8326074481010437, 0.7255941033363342, 0.8298723697662354, 0.3313524127006531, 0.8581206798553467, 0.7116265296936035, 0.8595229387283325, 0.3142959177494049, 0.844738781452179, 0.7681775093078613, 0.8383572697639465], [0.7001948356628418, 0.339639276266098, 0.6933404207229614, 0.32565343379974365, 0.6878281235694885, 0.32418331503868103, 0.6817062497138977, 0.32267528772354126, 0.7025696635246277, 0.32648104429244995, 0.7044568061828613, 0.3257244825363159, 0.7066552639007568, 0.32496193051338196, 0.6621354222297668, 0.32201939821243286, 0.6967942118644714, 0.3257918655872345, 0.685852587223053, 0.34586775302886963, 0.6955745816230774, 0.3471625745296478, 0.5197141170501709, 0.3673728108406067, 0.7352257370948792, 0.3827827274799347, 0.43099185824394226, 0.45438772439956665, 0.7454023957252502, 0.4822007417678833, 0.4822322130203247, 0.5121499300003052, 0.6541976928710938, 0.5157833099365234, 0.4951372444629669, 0.5283499956130981, 0.6337341666221619, 0.5277006030082703, 0.5092967748641968, 0.5206623673439026, 0.6238426566123962, 0.5213053226470947, 0.5087057948112488, 0.5137659907341003, 0.6285378336906433, 0.5150440335273743, 0.5035719275474548, 0.5449990034103394, 0.620848536491394, 0.5497371554374695, 0.4085560441017151, 0.6822426319122314, 0.7015870213508606, 0.6811485886573792, 0.33775457739830017, 0.8320623636245728, 0.7254730463027954, 0.8295815587043762, 0.33057212829589844, 0.8582905530929565, 0.7113198637962341, 0.8592327833175659, 0.3168223202228546, 0.8458511829376221, 0.7661075592041016, 0.8383352160453796], [0.6936290860176086, 0.34109190106391907, 0.6865163445472717, 0.32732194662094116, 0.6804442405700684, 0.3258028030395508, 0.6736480593681335, 0.3242092728614807, 0.6972317099571228, 0.32811105251312256, 0.6996913552284241, 0.32731908559799194, 0.7024306654930115, 0.3265306353569031, 0.654777467250824, 0.32282403111457825, 0.6942715644836426, 0.3268493711948395, 0.6795088648796082, 0.3469279706478119, 0.6902980208396912, 0.3485000431537628, 0.5186734199523926, 0.36739829182624817, 0.7342643737792969, 0.38313692808151245, 0.4308648705482483, 0.4545041620731354, 0.7440139651298523, 0.48226526379585266, 0.4831097722053528, 0.5120888948440552, 0.6543127298355103, 0.5178191065788269, 0.4957498013973236, 0.5281610488891602, 0.633415162563324, 0.5307087302207947, 0.5095813870429993, 0.5202873945236206, 0.6236917972564697, 0.5235840678215027, 0.5089511275291443, 0.5135549306869507, 0.6286125779151917, 0.5172842144966125, 0.5034273266792297, 0.5456044673919678, 0.6208286881446838, 0.5499998927116394, 0.40800297260284424, 0.6823233366012573, 0.7026750445365906, 0.6812840700149536, 0.337803453207016, 0.8319550156593323, 0.7252920866012573, 0.8294826745986938, 0.3306645154953003, 0.8583670854568481, 0.7112734913825989, 0.8589734435081482, 0.31864628195762634, 0.8459517359733582, 0.7662323713302612, 0.8389772772789001], [0.6894193887710571, 0.3440723419189453, 0.6823837757110596, 0.33073657751083374, 0.6762588024139404, 0.3291912376880646, 0.6693591475486755, 0.3275690972805023, 0.6933784484863281, 0.3316199481487274, 0.6960026025772095, 0.33092036843299866, 0.698943555355072, 0.33018922805786133, 0.6503614783287048, 0.3254880905151367, 0.6910870671272278, 0.3299454152584076, 0.6754558682441711, 0.34932664036750793, 0.6866823434829712, 0.3514693081378937, 0.5166469216346741, 0.3671817481517792, 0.7320341467857361, 0.3842528760433197, 0.43061861395835876, 0.45501068234443665, 0.7427118420600891, 0.4837612807750702, 0.4848479628562927, 0.5122668743133545, 0.6539778709411621, 0.5202054381370544, 0.4973800778388977, 0.5282675623893738, 0.631967306137085, 0.5344077348709106, 0.5108422636985779, 0.5204141139984131, 0.6233629584312439, 0.5267415642738342, 0.509708821773529, 0.5136767029762268, 0.6284757852554321, 0.5200570821762085, 0.5030477643013, 0.5461676716804504, 0.620830774307251, 0.5502992272377014, 0.40792202949523926, 0.682554304599762, 0.7034083604812622, 0.6815418601036072, 0.33785268664360046, 0.8320214152336121, 0.7252162098884583, 0.8288844227790833, 0.33086803555488586, 0.8585259914398193, 0.7113915085792542, 0.8577464818954468, 0.3186386227607727, 0.8437046408653259, 0.7663115859031677, 0.8388355374336243], [0.6884732246398926, 0.34634485840797424, 0.6801342368125916, 0.33409860730171204, 0.6741240620613098, 0.33273059129714966, 0.6675140261650085, 0.33125701546669006, 0.6917251944541931, 0.33459895849227905, 0.6945198178291321, 0.33381617069244385, 0.697554886341095, 0.33305713534355164, 0.650126039981842, 0.3284917175769806, 0.6896269917488098, 0.3326527178287506, 0.6741657853126526, 0.35164785385131836, 0.6858517527580261, 0.35382279753685, 0.5128660798072815, 0.3671095669269562, 0.7268544435501099, 0.3844708502292633, 0.4290284812450409, 0.4553576409816742, 0.7395408153533936, 0.48580196499824524, 0.48839884996414185, 0.5123926997184753, 0.6540893316268921, 0.5229789018630981, 0.5028885006904602, 0.5282620787620544, 0.6318124532699585, 0.5369307398796082, 0.5158892869949341, 0.5204926133155823, 0.6235499382019043, 0.5291965007781982, 0.5131165385246277, 0.5137777924537659, 0.6289830207824707, 0.5225597023963928, 0.5029990673065186, 0.5469456315040588, 0.6204614043235779, 0.5505304336547852, 0.4059678316116333, 0.6828581094741821, 0.7038818001747131, 0.6815239191055298, 0.3388614058494568, 0.8326073884963989, 0.7251187562942505, 0.82790607213974, 0.33218616247177124, 0.8604789972305298, 0.711169958114624, 0.8563172221183777, 0.31727463006973267, 0.8422241806983948, 0.7671121954917908, 0.8383592367172241], [0.6754144430160522, 0.34619131684303284, 0.6668853163719177, 0.33397457003593445, 0.6603942513465881, 0.3326139450073242, 0.653645932674408, 0.33117276430130005, 0.6805976033210754, 0.3346630036830902, 0.6842759847640991, 0.33402708172798157, 0.6878436803817749, 0.3333762288093567, 0.6360146999359131, 0.3288590610027313, 0.6796009540557861, 0.3334047198295593, 0.6621525883674622, 0.3516170382499695, 0.6749469637870789, 0.35372394323349, 0.5017850399017334, 0.3672145903110504, 0.7143307328224182, 0.3858101963996887, 0.4245677888393402, 0.45565351843833923, 0.7296280264854431, 0.48946651816368103, 0.48855024576187134, 0.5127713084220886, 0.6517156362533569, 0.5255454182624817, 0.50324547290802, 0.5283181667327881, 0.628628671169281, 0.5393427610397339, 0.5160950422286987, 0.5205568671226501, 0.6213095784187317, 0.5318113565444946, 0.513178288936615, 0.5138345956802368, 0.6275830268859863, 0.5249263048171997, 0.5004034638404846, 0.5482490062713623, 0.6192213296890259, 0.5506131052970886, 0.4027717709541321, 0.6836677193641663, 0.703879177570343, 0.6822288036346436, 0.338716059923172, 0.8326454758644104, 0.7250491380691528, 0.8291366100311279, 0.33231866359710693, 0.8605236411094666, 0.711200475692749, 0.8580828309059143, 0.29367077350616455, 0.8400523066520691, 0.7652884721755981, 0.8387912511825562], [0.6539649963378906, 0.34560614824295044, 0.6452459096908569, 0.33386358618736267, 0.6387134790420532, 0.33256661891937256, 0.631974458694458, 0.33113378286361694, 0.6607373952865601, 0.33462175726890564, 0.6656110882759094, 0.3339649438858032, 0.6703709959983826, 0.3333538770675659, 0.6168725490570068, 0.3292280435562134, 0.6653047204017639, 0.3339810073375702, 0.642109215259552, 0.35116344690322876, 0.6571532487869263, 0.3534747064113617, 0.49393248558044434, 0.3672979772090912, 0.7046292424201965, 0.38764488697052, 0.4217955470085144, 0.45694035291671753, 0.7187935709953308, 0.4926404356956482, 0.4883742034435272, 0.5135945677757263, 0.6454238891601562, 0.5303112864494324, 0.5031532645225525, 0.5284901857376099, 0.6221646070480347, 0.543864369392395, 0.5159076452255249, 0.521001398563385, 0.6147196292877197, 0.5369850397109985, 0.5130946636199951, 0.5145306587219238, 0.6213420629501343, 0.5301929116249084, 0.4950547516345978, 0.5497408509254456, 0.6158419847488403, 0.5507137179374695, 0.39890533685684204, 0.6844320893287659, 0.7025868892669678, 0.6823202967643738, 0.33933335542678833, 0.8326571583747864, 0.7227566242218018, 0.8295927047729492, 0.33494359254837036, 0.8608455657958984, 0.7102019190788269, 0.8584722280502319, 0.2788251042366028, 0.8399520516395569, 0.745280921459198, 0.8379570841789246], [0.6324316263198853, 0.34567883610725403, 0.6233382225036621, 0.3349577784538269, 0.6168213486671448, 0.33373627066612244, 0.6099966764450073, 0.33241957426071167, 0.6388861536979675, 0.336018830537796, 0.6436864733695984, 0.3356160819530487, 0.6485357880592346, 0.33520790934562683, 0.5969968438148499, 0.33195915818214417, 0.646827757358551, 0.33646875619888306, 0.6212299466133118, 0.35136544704437256, 0.636249303817749, 0.3535376787185669, 0.48532307147979736, 0.3678247332572937, 0.692741870880127, 0.39054927229881287, 0.4178992807865143, 0.4576720893383026, 0.7096790671348572, 0.494471937417984, 0.48832669854164124, 0.5136122107505798, 0.640671968460083, 0.5328784584999084, 0.5027698874473572, 0.5279547572135925, 0.6179768443107605, 0.5464449524879456, 0.51544189453125, 0.5208386182785034, 0.6108385324478149, 0.5396630167961121, 0.5127640962600708, 0.5145583152770996, 0.6173917055130005, 0.5328457355499268, 0.49133533239364624, 0.5524030923843384, 0.6121169924736023, 0.5522457361221313, 0.3933255076408386, 0.6859299540519714, 0.7010713219642639, 0.6825973987579346, 0.3385433256626129, 0.833747148513794, 0.7228278517723083, 0.8298779129981995, 0.33601200580596924, 0.8650723099708557, 0.7104589343070984, 0.8589470386505127, 0.27259740233421326, 0.8405635952949524, 0.7458934187889099, 0.8374841213226318], [0.6181342005729675, 0.3473101854324341, 0.6090336441993713, 0.337769478559494, 0.60264652967453, 0.3364954888820648, 0.5957390069961548, 0.33517730236053467, 0.6235705018043518, 0.33885976672172546, 0.6279088258743286, 0.33838194608688354, 0.6323325634002686, 0.33786410093307495, 0.5815206170082092, 0.3352980613708496, 0.6306329369544983, 0.33873608708381653, 0.6070311665534973, 0.3529609739780426, 0.6209853887557983, 0.3548216223716736, 0.4731121361255646, 0.3702244460582733, 0.6812505722045898, 0.3937014937400818, 0.4133208692073822, 0.46012067794799805, 0.7014166712760925, 0.49655982851982117, 0.486068993806839, 0.5136838555335999, 0.6329354643821716, 0.5336331129074097, 0.4982680678367615, 0.5278352499008179, 0.611311137676239, 0.5468077063560486, 0.5110043287277222, 0.5205922722816467, 0.603984534740448, 0.539910614490509, 0.509466290473938, 0.5145676732063293, 0.6098542213439941, 0.5331729650497437, 0.48767367005348206, 0.5556483864784241, 0.6092620491981506, 0.5542669296264648, 0.3897050619125366, 0.6866660714149475, 0.699905276298523, 0.6839369535446167, 0.33723610639572144, 0.833827018737793, 0.7227780222892761, 0.8299067616462708, 0.3341493308544159, 0.8648621439933777, 0.7104450464248657, 0.8580211997032166, 0.275489866733551, 0.8403390049934387, 0.7494805455207825, 0.8365081548690796], [0.6035420894622803, 0.3477383852005005, 0.5945960879325867, 0.3385502099990845, 0.5883617997169495, 0.33730024099349976, 0.5815424919128418, 0.3360152840614319, 0.6091220378875732, 0.33980751037597656, 0.6136184334754944, 0.33945760130882263, 0.6181628704071045, 0.33905044198036194, 0.5681965947151184, 0.336696058511734, 0.6178687810897827, 0.3404119312763214, 0.5935510993003845, 0.3534495234489441, 0.6074680685997009, 0.35516563057899475, 0.4658021330833435, 0.3707025349140167, 0.6720063090324402, 0.39599964022636414, 0.4044579267501831, 0.4610699415206909, 0.6947426795959473, 0.49786433577537537, 0.47923171520233154, 0.5129572749137878, 0.632223904132843, 0.5339641571044922, 0.49317315220832825, 0.5255427956581116, 0.6125876903533936, 0.5469597578048706, 0.5045409202575684, 0.5181880593299866, 0.6051303148269653, 0.5401961207389832, 0.5028237104415894, 0.5131198167800903, 0.6106122732162476, 0.5335325002670288, 0.485572874546051, 0.5583247542381287, 0.6063719391822815, 0.5562629699707031, 0.37918439507484436, 0.6880940794944763, 0.6983312368392944, 0.6846873164176941, 0.33648934960365295, 0.8352470397949219, 0.7248330116271973, 0.8300972580909729, 0.34347638487815857, 0.8669098019599915, 0.7134385108947754, 0.8578809499740601, 0.269257515668869, 0.8404271006584167, 0.7506425380706787, 0.8351036310195923], [0.5929415822029114, 0.34767094254493713, 0.5839623808860779, 0.338407427072525, 0.5776200294494629, 0.33724772930145264, 0.5707502365112305, 0.3360891342163086, 0.5984621644020081, 0.3395727276802063, 0.6028118133544922, 0.3392268121242523, 0.607327401638031, 0.33882802724838257, 0.5574103593826294, 0.3371187746524811, 0.6066232323646545, 0.34041261672973633, 0.5828527212142944, 0.3535056710243225, 0.5968598127365112, 0.35511112213134766, 0.4562246799468994, 0.37308433651924133, 0.6642597317695618, 0.3971022367477417, 0.39840108156204224, 0.4634808599948883, 0.6906720399856567, 0.49909651279449463, 0.4768707752227783, 0.512974739074707, 0.6318682432174683, 0.5348204970359802, 0.4911821782588959, 0.5252591967582703, 0.613450825214386, 0.5479938983917236, 0.5027230978012085, 0.518187403678894, 0.605959415435791, 0.5412060618400574, 0.500972330570221, 0.5131905674934387, 0.611320972442627, 0.5342723727226257, 0.4830763638019562, 0.5613080263137817, 0.6036990880966187, 0.5588576793670654, 0.37248489260673523, 0.6889218688011169, 0.697401762008667, 0.6855572462081909, 0.33625689148902893, 0.8351343870162964, 0.7229791283607483, 0.8304062485694885, 0.3430311381816864, 0.8667742013931274, 0.7089394927024841, 0.8585107922554016, 0.26885008811950684, 0.8404915928840637, 0.7526816129684448, 0.836213231086731], [0.579631507396698, 0.34810107946395874, 0.5702404975891113, 0.33883965015411377, 0.5639569163322449, 0.3377796411514282, 0.5572013258934021, 0.33672839403152466, 0.5855519771575928, 0.3399752676486969, 0.5904651284217834, 0.33968064188957214, 0.5954868197441101, 0.3393322229385376, 0.5451998114585876, 0.3386167883872986, 0.5970324277877808, 0.341611385345459, 0.5705321431159973, 0.3542420566082001, 0.5847726464271545, 0.3557054102420807, 0.44864165782928467, 0.37528058886528015, 0.6557711362838745, 0.3986299932003021, 0.3925808370113373, 0.4668158292770386, 0.6868590116500854, 0.5012844800949097, 0.47397005558013916, 0.5133240818977356, 0.6321783065795898, 0.5346155762672424, 0.4906521737575531, 0.5249730348587036, 0.6142343282699585, 0.5479776859283447, 0.501545250415802, 0.5180740356445312, 0.6070735454559326, 0.5410837531089783, 0.4993378818035126, 0.5132448077201843, 0.6116159558296204, 0.5341333746910095, 0.4812161922454834, 0.5653588175773621, 0.6017851233482361, 0.5632703900337219, 0.3668286204338074, 0.6890543699264526, 0.697175145149231, 0.6857273578643799, 0.33585605025291443, 0.8351752161979675, 0.7228327989578247, 0.8308383226394653, 0.3433881103992462, 0.866578221321106, 0.7052327394485474, 0.8585110306739807, 0.2695777714252472, 0.8400113582611084, 0.7637799382209778, 0.8388441205024719], [0.5710448622703552, 0.34847506880760193, 0.5616151690483093, 0.3393394649028778, 0.5555468797683716, 0.3384832739830017, 0.5489580035209656, 0.33764442801475525, 0.577269434928894, 0.3403743803501129, 0.5824756622314453, 0.34019196033477783, 0.5878103971481323, 0.33994829654693604, 0.5370053648948669, 0.3405885398387909, 0.5896309614181519, 0.34306013584136963, 0.56252121925354, 0.35507068037986755, 0.5772725939750671, 0.3565290570259094, 0.4423859417438507, 0.3761812150478363, 0.6516466736793518, 0.40111157298088074, 0.3860026001930237, 0.46779632568359375, 0.6829307675361633, 0.5031463503837585, 0.46949413418769836, 0.5133346915245056, 0.6311367154121399, 0.5350922346115112, 0.4888416528701782, 0.5243213176727295, 0.6146439909934998, 0.5484412908554077, 0.49927058815956116, 0.5175468325614929, 0.6074327230453491, 0.5416021347045898, 0.4965451955795288, 0.5131868124008179, 0.612048327922821, 0.5345737338066101, 0.4796906113624573, 0.5676132440567017, 0.6003669500350952, 0.565828263759613, 0.36390364170074463, 0.6899051666259766, 0.6969380974769592, 0.686741292476654, 0.33586689829826355, 0.8348752856254578, 0.7216895222663879, 0.8308417797088623, 0.3437807261943817, 0.8644905686378479, 0.7026567459106445, 0.8574556708335876, 0.2717849314212799, 0.8397983312606812, 0.7690847516059875, 0.8395904302597046], [0.5614123940467834, 0.35026103258132935, 0.5522215366363525, 0.3417819142341614, 0.5462502837181091, 0.3410421907901764, 0.539741575717926, 0.34029993414878845, 0.567977249622345, 0.3426674008369446, 0.5732560753822327, 0.3425118029117584, 0.5785238742828369, 0.3423190116882324, 0.5289737582206726, 0.3432539105415344, 0.5807612538337708, 0.34534499049186707, 0.553253710269928, 0.3570154905319214, 0.5679934620857239, 0.35849177837371826, 0.4356750547885895, 0.3769298791885376, 0.6446098685264587, 0.4022788405418396, 0.380869060754776, 0.46818462014198303, 0.6793574094772339, 0.5046821236610413, 0.4648969769477844, 0.5139086842536926, 0.629940927028656, 0.5359076261520386, 0.48493409156799316, 0.5243842005729675, 0.6150360703468323, 0.5492395162582397, 0.49498528242111206, 0.5175939202308655, 0.6077842116355896, 0.5425298810005188, 0.4921717345714569, 0.5134859681129456, 0.6122040748596191, 0.5354731678962708, 0.4774227440357208, 0.5700240731239319, 0.5981775522232056, 0.5678803324699402, 0.3625440299510956, 0.6922984719276428, 0.6966625452041626, 0.68709397315979, 0.33563610911369324, 0.8356027007102966, 0.7177782654762268, 0.8332858681678772, 0.34357723593711853, 0.86457359790802, 0.7002312541007996, 0.8587531447410583, 0.271208792924881, 0.8404969573020935, 0.7592167258262634, 0.8379688858985901], [0.5555114150047302, 0.3528531491756439, 0.546438992023468, 0.3446868360042572, 0.5407585501670837, 0.3439721465110779, 0.5346012711524963, 0.34328964352607727, 0.5617164969444275, 0.3454347848892212, 0.566872239112854, 0.3452216684818268, 0.5720462203025818, 0.34499210119247437, 0.5235098600387573, 0.34589847922325134, 0.5734193921089172, 0.34755662083625793, 0.5475521087646484, 0.3596353828907013, 0.5620748400688171, 0.3610399067401886, 0.4311525523662567, 0.3781360685825348, 0.6414538621902466, 0.40389102697372437, 0.3774124085903168, 0.469536155462265, 0.675975501537323, 0.506396472454071, 0.46176937222480774, 0.514299750328064, 0.6289113163948059, 0.5373744964599609, 0.4815129041671753, 0.5244640707969666, 0.6153268218040466, 0.5511188507080078, 0.4911375939846039, 0.5176923871040344, 0.6080323457717896, 0.5445425510406494, 0.4885423481464386, 0.5138155817985535, 0.6121166944503784, 0.5373684763908386, 0.47523894906044006, 0.5723202228546143, 0.5964939594268799, 0.5698160529136658, 0.36110761761665344, 0.6948019862174988, 0.6963038444519043, 0.6875942945480347, 0.33555418252944946, 0.8363942503929138, 0.7163357734680176, 0.8350180387496948, 0.34371259808540344, 0.8646265268325806, 0.6994547247886658, 0.8605002760887146, 0.27213799953460693, 0.8426551818847656, 0.7592642903327942, 0.8390061855316162], [0.5522799491882324, 0.3544108271598816, 0.5433450937271118, 0.34632301330566406, 0.5380297303199768, 0.3456878960132599, 0.5323197245597839, 0.34509098529815674, 0.5582098960876465, 0.3468894362449646, 0.5633617043495178, 0.3466615080833435, 0.5686135292053223, 0.34643253684043884, 0.521660327911377, 0.3475676476955414, 0.5691514611244202, 0.3487918972969055, 0.5456400513648987, 0.36158400774002075, 0.5595487952232361, 0.3627983629703522, 0.4281799793243408, 0.37929263710975647, 0.6396470069885254, 0.4051458239555359, 0.3742980360984802, 0.47096362709999084, 0.6727812886238098, 0.5075010061264038, 0.459067702293396, 0.5154980421066284, 0.6287086009979248, 0.5390480160713196, 0.4779421091079712, 0.5256352424621582, 0.6154676079750061, 0.55326247215271, 0.4874345064163208, 0.5193586945533752, 0.6082241535186768, 0.5469298958778381, 0.4848877489566803, 0.5154449343681335, 0.6121764779090881, 0.5395674109458923, 0.47414037585258484, 0.5733203887939453, 0.5949150919914246, 0.5710104703903198, 0.36006370186805725, 0.6964269876480103, 0.6960766315460205, 0.6876155138015747, 0.33447206020355225, 0.8372782468795776, 0.7160146236419678, 0.8360502123832703, 0.3435993492603302, 0.8650548458099365, 0.6993735432624817, 0.8613153100013733, 0.27282238006591797, 0.8433330655097961, 0.7536605000495911, 0.8399575352668762], [0.5493513345718384, 0.35491612553596497, 0.5400940179824829, 0.3465145528316498, 0.5349899530410767, 0.3458136320114136, 0.5295526385307312, 0.3451542258262634, 0.5550719499588013, 0.3472818434238434, 0.5605400800704956, 0.34712350368499756, 0.566162645816803, 0.3469240367412567, 0.5189549922943115, 0.3484330475330353, 0.5676798224449158, 0.3495078682899475, 0.5439417362213135, 0.36228230595588684, 0.5577324032783508, 0.36364948749542236, 0.4270036518573761, 0.38041266798973083, 0.6379234194755554, 0.4062343239784241, 0.3737863004207611, 0.4732610583305359, 0.6705799698829651, 0.5080997347831726, 0.45947906374931335, 0.5163770318031311, 0.6245235800743103, 0.5417415499687195, 0.478453129529953, 0.5273301005363464, 0.6122905015945435, 0.5558949708938599, 0.4880973994731903, 0.5212269425392151, 0.6046069860458374, 0.5497714281082153, 0.4852784276008606, 0.5169034004211426, 0.607926607131958, 0.5424899458885193, 0.47367537021636963, 0.5745283961296082, 0.5947551727294922, 0.5720590949058533, 0.3588741421699524, 0.6963927149772644, 0.6959620714187622, 0.6876253485679626, 0.3342020809650421, 0.837113082408905, 0.7160951495170593, 0.8349704146385193, 0.34352898597717285, 0.8646734356880188, 0.699528694152832, 0.8586429953575134, 0.2730984389781952, 0.8442539572715759, 0.7528847455978394, 0.8399124145507812]]\n"
     ]
    }
   ],
   "source": [
    "video_pth = 'tieshankao.mp4'\n",
    "ret, feature = extract_feature(video_pth, pose, complex_mode=True, seq_min_nums=SEQ_LENGTH)\n",
    "if ret:\n",
    "    print(len(feature), np.shape(feature), feature)"
   ]
  },
  {
   "cell_type": "code",
   "execution_count": 117,
   "metadata": {},
   "outputs": [],
   "source": [
    "def load_dataset(dataset_dir, complex_mode):\n",
    "    \"\"\"\n",
    "    :param dataset_dir: root_dir -> sub_dir -> video_paths\n",
    "    :return:\n",
    "    \"\"\"\n",
    "    dir_names = [name for name in os.listdir(dataset_dir) if os.path.isdir(os.path.join(dataset_dir, name))]\n",
    "    assert set(dir_names) == set(CLASS_NAMES)\n",
    "    \n",
    "    samples_num_list = []\n",
    "    for sub_dir in [os.path.join(dataset_dir, name) for name in dir_names]:\n",
    "        samples_num_list.append(len(os.listdir(sub_dir)))\n",
    "    min_samples_num = min(samples_num_list)\n",
    "    print(f\"minimun samples number: {min_samples_num}\")\n",
    "\n",
    "    features = []\n",
    "    labels_ids = []\n",
    "    for name in tqdm(dir_names, desc=\"Iterate video rootdir: \"):\n",
    "        sub_dir = os.path.join(dataset_dir, name)\n",
    "        labels_id = CLASS_NAMES.index(name)\n",
    "        \n",
    "        # random shuffle files and get last min_samples_num elements\n",
    "        filenames = os.listdir(sub_dir)\n",
    "        random.shuffle(filenames)\n",
    "        filenames = filenames[:min_samples_num]\n",
    "        \n",
    "        success_cnt = 0\n",
    "        for filename in tqdm(filenames, desc=f\"Iterate subdir '{name}': \"):\n",
    "            vid_path = os.path.join(sub_dir, filename)\n",
    "            ret, feature = extract_feature(vid_path, pose, complex_mode)\n",
    "            if ret:\n",
    "                features.append(feature)\n",
    "                labels_ids.append(labels_id)\n",
    "                 \n",
    "                success_cnt +=1\n",
    "            else:\n",
    "                print(f\"Error extracting, filename is {filename}.\")\n",
    "            \n",
    "        print(f\"subdir({sub_dir}) files number: {len(filenames)}; successfuly extracted files number: {success_cnt}.\")\n",
    "        \n",
    "\n",
    "    return features, labels_ids"
   ]
  },
  {
   "cell_type": "markdown",
   "metadata": {},
   "source": [
    "测试样本质量"
   ]
  },
  {
   "cell_type": "code",
   "execution_count": 139,
   "metadata": {},
   "outputs": [
    {
     "name": "stdout",
     "output_type": "stream",
     "text": [
      "successfuly loaded.\n"
     ]
    }
   ],
   "source": [
    "dataset_dir = 'F:/A_Projects/C1_CV_Projects/Projects1_TelloDroneDetection/TelloDroneDetection/TelloDroneDetection/training/dataset'\n",
    "\n",
    "cache_path = 'dataset75.pkl'\n",
    "if not os.path.exists(cache_path):\n",
    "    dataset_features, dataset_labels = load_dataset(dataset_dir, complex_mode=True)\n",
    "    with open(cache_path, 'wb') as f:\n",
    "        pickle.dump((dataset_features, dataset_labels), f)\n",
    "        print(\"successfuly cached.\")\n",
    "else:\n",
    "    with open(cache_path, 'rb') as f:\n",
    "        dataset_features, dataset_labels = pickle.load(f)\n",
    "        print(\"successfuly loaded.\")"
   ]
  },
  {
   "cell_type": "code",
   "execution_count": 140,
   "metadata": {},
   "outputs": [
    {
     "name": "stdout",
     "output_type": "stream",
     "text": [
      "(226, 75, 66) (12, 75, 66) (226, 1) (12, 1)\n"
     ]
    }
   ],
   "source": [
    "# step1: format array shape for model feeding\n",
    "features_arr = np.array(dataset_features)\n",
    "labels_arr = np.expand_dims(np.array(dataset_labels), axis=1)\n",
    "# print(np.shape(features_arr), np.shape(labels_arr))\n",
    "\n",
    "# step2: split to tring-val\n",
    "x_train, x_test, y_train, y_test = train_test_split(features_arr, labels_arr, test_size=0.05, random_state=20, shuffle=True)\n",
    "print(x_train.shape, x_test.shape, y_train.shape, y_test.shape)"
   ]
  },
  {
   "cell_type": "code",
   "execution_count": 141,
   "metadata": {},
   "outputs": [
    {
     "name": "stdout",
     "output_type": "stream",
     "text": [
      "[PhysicalDevice(name='/physical_device:GPU:0', device_type='GPU')]\n"
     ]
    }
   ],
   "source": [
    "print(tf.config.list_physical_devices('GPU'))"
   ]
  },
  {
   "cell_type": "code",
   "execution_count": 144,
   "metadata": {},
   "outputs": [
    {
     "name": "stdout",
     "output_type": "stream",
     "text": [
      "Model: \"sequential_21\"\n",
      "_________________________________________________________________\n",
      " Layer (type)                Output Shape              Param #   \n",
      "=================================================================\n",
      " gru_22 (GRU)                (None, 32)                9600      \n",
      "                                                                 \n",
      " dense_24 (Dense)            (None, 2)                 66        \n",
      "                                                                 \n",
      "=================================================================\n",
      "Total params: 9,666\n",
      "Trainable params: 9,666\n",
      "Non-trainable params: 0\n",
      "_________________________________________________________________\n"
     ]
    }
   ],
   "source": [
    "# Build Model\n",
    "model = Sequential([\n",
    "    layers.Input(shape=INPUT_SHAPE),\n",
    "    layers.GRU(32, return_sequences=False),\n",
    "    layers.Dense(len(CLASS_NAMES), activation=\"softmax\")\n",
    "])\n",
    "model.compile(\n",
    "    optimizer=optimizers.Adam(0.001), \n",
    "    loss=\"sparse_categorical_crossentropy\", \n",
    "    metrics=[\"accuracy\"]\n",
    ")\n",
    "model.summary()"
   ]
  },
  {
   "cell_type": "code",
   "execution_count": 145,
   "metadata": {},
   "outputs": [
    {
     "name": "stdout",
     "output_type": "stream",
     "text": [
      "Epoch 1/45\n",
      "7/8 [=========================>....] - ETA: 0s - loss: 0.6659 - accuracy: 0.5804\n",
      "Epoch 1: val_accuracy improved from -inf to 0.66667, saving model to ./saved_model\\ikun_classifier\n",
      "8/8 [==============================] - 4s 99ms/step - loss: 0.6657 - accuracy: 0.5796 - val_loss: 0.6782 - val_accuracy: 0.6667\n",
      "Epoch 2/45\n",
      "7/8 [=========================>....] - ETA: 0s - loss: 0.6588 - accuracy: 0.6562\n",
      "Epoch 2: val_accuracy did not improve from 0.66667\n",
      "8/8 [==============================] - 0s 24ms/step - loss: 0.6587 - accuracy: 0.6549 - val_loss: 0.6843 - val_accuracy: 0.5833\n",
      "Epoch 3/45\n",
      "7/8 [=========================>....] - ETA: 0s - loss: 0.6414 - accuracy: 0.6607\n",
      "Epoch 3: val_accuracy did not improve from 0.66667\n",
      "8/8 [==============================] - 0s 27ms/step - loss: 0.6406 - accuracy: 0.6637 - val_loss: 0.6841 - val_accuracy: 0.5833\n",
      "Epoch 4/45\n",
      "6/8 [=====================>........] - ETA: 0s - loss: 0.6304 - accuracy: 0.6927\n",
      "Epoch 4: val_accuracy did not improve from 0.66667\n",
      "8/8 [==============================] - 0s 15ms/step - loss: 0.6349 - accuracy: 0.6726 - val_loss: 0.6915 - val_accuracy: 0.5833\n",
      "Epoch 5/45\n",
      "6/8 [=====================>........] - ETA: 0s - loss: 0.6310 - accuracy: 0.6094\n",
      "Epoch 5: val_accuracy did not improve from 0.66667\n",
      "8/8 [==============================] - 0s 15ms/step - loss: 0.6312 - accuracy: 0.6062 - val_loss: 0.6769 - val_accuracy: 0.6667\n",
      "Epoch 6/45\n",
      "6/8 [=====================>........] - ETA: 0s - loss: 0.6212 - accuracy: 0.7188\n",
      "Epoch 6: val_accuracy did not improve from 0.66667\n",
      "8/8 [==============================] - 0s 14ms/step - loss: 0.6198 - accuracy: 0.7301 - val_loss: 0.6542 - val_accuracy: 0.6667\n",
      "Epoch 7/45\n",
      "6/8 [=====================>........] - ETA: 0s - loss: 0.6357 - accuracy: 0.6042\n",
      "Epoch 7: val_accuracy did not improve from 0.66667\n",
      "8/8 [==============================] - 0s 15ms/step - loss: 0.6293 - accuracy: 0.6150 - val_loss: 0.6501 - val_accuracy: 0.5833\n",
      "Epoch 8/45\n",
      "7/8 [=========================>....] - ETA: 0s - loss: 0.5959 - accuracy: 0.7321\n",
      "Epoch 8: val_accuracy did not improve from 0.66667\n",
      "8/8 [==============================] - 0s 15ms/step - loss: 0.5963 - accuracy: 0.7301 - val_loss: 0.6558 - val_accuracy: 0.6667\n",
      "Epoch 9/45\n",
      "6/8 [=====================>........] - ETA: 0s - loss: 0.6033 - accuracy: 0.7031\n",
      "Epoch 9: val_accuracy did not improve from 0.66667\n",
      "8/8 [==============================] - 0s 15ms/step - loss: 0.5970 - accuracy: 0.7080 - val_loss: 0.6212 - val_accuracy: 0.6667\n",
      "Epoch 10/45\n",
      "6/8 [=====================>........] - ETA: 0s - loss: 0.5881 - accuracy: 0.7292\n",
      "Epoch 10: val_accuracy did not improve from 0.66667\n",
      "8/8 [==============================] - 0s 15ms/step - loss: 0.5788 - accuracy: 0.7522 - val_loss: 0.6468 - val_accuracy: 0.6667\n",
      "Epoch 11/45\n",
      "8/8 [==============================] - ETA: 0s - loss: 0.5715 - accuracy: 0.7434\n",
      "Epoch 11: val_accuracy did not improve from 0.66667\n",
      "8/8 [==============================] - 0s 12ms/step - loss: 0.5715 - accuracy: 0.7434 - val_loss: 0.5899 - val_accuracy: 0.6667\n",
      "Epoch 12/45\n",
      "8/8 [==============================] - ETA: 0s - loss: 0.5704 - accuracy: 0.6947\n",
      "Epoch 12: val_accuracy did not improve from 0.66667\n",
      "8/8 [==============================] - 0s 12ms/step - loss: 0.5704 - accuracy: 0.6947 - val_loss: 0.5910 - val_accuracy: 0.6667\n",
      "Epoch 13/45\n",
      "7/8 [=========================>....] - ETA: 0s - loss: 0.5492 - accuracy: 0.7455\n",
      "Epoch 13: val_accuracy improved from 0.66667 to 0.75000, saving model to ./saved_model\\ikun_classifier\n",
      "8/8 [==============================] - 0s 37ms/step - loss: 0.5476 - accuracy: 0.7478 - val_loss: 0.5713 - val_accuracy: 0.7500\n",
      "Epoch 14/45\n",
      "7/8 [=========================>....] - ETA: 0s - loss: 0.5155 - accuracy: 0.7634\n",
      "Epoch 14: val_accuracy did not improve from 0.75000\n",
      "8/8 [==============================] - 0s 12ms/step - loss: 0.5166 - accuracy: 0.7611 - val_loss: 0.5464 - val_accuracy: 0.6667\n",
      "Epoch 15/45\n",
      "7/8 [=========================>....] - ETA: 0s - loss: 0.5090 - accuracy: 0.7679\n",
      "Epoch 15: val_accuracy did not improve from 0.75000\n",
      "8/8 [==============================] - 0s 12ms/step - loss: 0.5069 - accuracy: 0.7699 - val_loss: 0.4683 - val_accuracy: 0.7500\n",
      "Epoch 16/45\n",
      "8/8 [==============================] - ETA: 0s - loss: 0.4678 - accuracy: 0.7699\n",
      "Epoch 16: val_accuracy did not improve from 0.75000\n",
      "8/8 [==============================] - 0s 12ms/step - loss: 0.4678 - accuracy: 0.7699 - val_loss: 0.4602 - val_accuracy: 0.6667\n",
      "Epoch 17/45\n",
      "7/8 [=========================>....] - ETA: 0s - loss: 0.4277 - accuracy: 0.8036\n",
      "Epoch 17: val_accuracy improved from 0.75000 to 0.83333, saving model to ./saved_model\\ikun_classifier\n",
      "8/8 [==============================] - 0s 54ms/step - loss: 0.4293 - accuracy: 0.8009 - val_loss: 0.3708 - val_accuracy: 0.8333\n",
      "Epoch 18/45\n",
      "7/8 [=========================>....] - ETA: 0s - loss: 0.4341 - accuracy: 0.7768\n",
      "Epoch 18: val_accuracy improved from 0.83333 to 0.91667, saving model to ./saved_model\\ikun_classifier\n",
      "8/8 [==============================] - 0s 37ms/step - loss: 0.4310 - accuracy: 0.7788 - val_loss: 0.3206 - val_accuracy: 0.9167\n",
      "Epoch 19/45\n",
      "8/8 [==============================] - ETA: 0s - loss: 0.3836 - accuracy: 0.8363\n",
      "Epoch 19: val_accuracy did not improve from 0.91667\n",
      "8/8 [==============================] - 0s 12ms/step - loss: 0.3836 - accuracy: 0.8363 - val_loss: 0.3556 - val_accuracy: 0.8333\n",
      "Epoch 20/45\n",
      "7/8 [=========================>....] - ETA: 0s - loss: 0.4203 - accuracy: 0.7902\n",
      "Epoch 20: val_accuracy did not improve from 0.91667\n",
      "8/8 [==============================] - 0s 12ms/step - loss: 0.4202 - accuracy: 0.7920 - val_loss: 0.3464 - val_accuracy: 0.7500\n",
      "Epoch 21/45\n",
      "8/8 [==============================] - ETA: 0s - loss: 0.3349 - accuracy: 0.8761\n",
      "Epoch 21: val_accuracy did not improve from 0.91667\n",
      "8/8 [==============================] - 0s 12ms/step - loss: 0.3349 - accuracy: 0.8761 - val_loss: 0.3726 - val_accuracy: 0.7500\n",
      "Epoch 22/45\n",
      "8/8 [==============================] - ETA: 0s - loss: 0.3757 - accuracy: 0.8407\n",
      "Epoch 22: val_accuracy did not improve from 0.91667\n",
      "8/8 [==============================] - 0s 12ms/step - loss: 0.3757 - accuracy: 0.8407 - val_loss: 0.3858 - val_accuracy: 0.7500\n",
      "Epoch 23/45\n",
      "7/8 [=========================>....] - ETA: 0s - loss: 0.3428 - accuracy: 0.8393\n",
      "Epoch 23: val_accuracy did not improve from 0.91667\n",
      "8/8 [==============================] - 0s 13ms/step - loss: 0.3495 - accuracy: 0.8363 - val_loss: 0.2918 - val_accuracy: 0.9167\n",
      "Epoch 24/45\n",
      "7/8 [=========================>....] - ETA: 0s - loss: 0.3531 - accuracy: 0.8438\n",
      "Epoch 24: val_accuracy did not improve from 0.91667\n",
      "8/8 [==============================] - 0s 12ms/step - loss: 0.3506 - accuracy: 0.8451 - val_loss: 0.3067 - val_accuracy: 0.9167\n",
      "Epoch 25/45\n",
      "8/8 [==============================] - ETA: 0s - loss: 0.3461 - accuracy: 0.8363\n",
      "Epoch 25: val_accuracy did not improve from 0.91667\n",
      "8/8 [==============================] - 0s 12ms/step - loss: 0.3461 - accuracy: 0.8363 - val_loss: 0.3650 - val_accuracy: 0.7500\n",
      "Epoch 26/45\n",
      "8/8 [==============================] - ETA: 0s - loss: 0.3484 - accuracy: 0.8407\n",
      "Epoch 26: val_accuracy did not improve from 0.91667\n",
      "8/8 [==============================] - 0s 13ms/step - loss: 0.3484 - accuracy: 0.8407 - val_loss: 0.2865 - val_accuracy: 0.9167\n",
      "Epoch 27/45\n",
      "8/8 [==============================] - ETA: 0s - loss: 0.3038 - accuracy: 0.8805\n",
      "Epoch 27: val_accuracy did not improve from 0.91667\n",
      "8/8 [==============================] - 0s 12ms/step - loss: 0.3038 - accuracy: 0.8805 - val_loss: 0.2806 - val_accuracy: 0.9167\n",
      "Epoch 28/45\n",
      "8/8 [==============================] - ETA: 0s - loss: 0.2845 - accuracy: 0.8938\n",
      "Epoch 28: val_accuracy did not improve from 0.91667\n",
      "8/8 [==============================] - 0s 12ms/step - loss: 0.2845 - accuracy: 0.8938 - val_loss: 0.4111 - val_accuracy: 0.7500\n",
      "Epoch 29/45\n",
      "8/8 [==============================] - ETA: 0s - loss: 0.2929 - accuracy: 0.8584\n",
      "Epoch 29: val_accuracy did not improve from 0.91667\n",
      "8/8 [==============================] - 0s 12ms/step - loss: 0.2929 - accuracy: 0.8584 - val_loss: 0.2387 - val_accuracy: 0.9167\n",
      "Epoch 30/45\n",
      "7/8 [=========================>....] - ETA: 0s - loss: 0.2645 - accuracy: 0.9062\n",
      "Epoch 30: val_accuracy did not improve from 0.91667\n"
     ]
    },
    {
     "name": "stdout",
     "output_type": "stream",
     "text": [
      "8/8 [==============================] - 0s 13ms/step - loss: 0.2624 - accuracy: 0.9071 - val_loss: 0.5035 - val_accuracy: 0.7500\n",
      "Epoch 31/45\n",
      "8/8 [==============================] - ETA: 0s - loss: 0.3150 - accuracy: 0.8540\n",
      "Epoch 31: val_accuracy did not improve from 0.91667\n",
      "8/8 [==============================] - 0s 12ms/step - loss: 0.3150 - accuracy: 0.8540 - val_loss: 0.2682 - val_accuracy: 0.9167\n",
      "Epoch 32/45\n",
      "8/8 [==============================] - ETA: 0s - loss: 0.2713 - accuracy: 0.8894\n",
      "Epoch 32: val_accuracy did not improve from 0.91667\n",
      "8/8 [==============================] - 0s 12ms/step - loss: 0.2713 - accuracy: 0.8894 - val_loss: 0.3104 - val_accuracy: 0.8333\n",
      "Epoch 33/45\n",
      "7/8 [=========================>....] - ETA: 0s - loss: 0.2606 - accuracy: 0.8839\n",
      "Epoch 33: val_accuracy did not improve from 0.91667\n",
      "8/8 [==============================] - 0s 12ms/step - loss: 0.2589 - accuracy: 0.8850 - val_loss: 0.2924 - val_accuracy: 0.8333\n",
      "Epoch 34/45\n",
      "8/8 [==============================] - ETA: 0s - loss: 0.2589 - accuracy: 0.8982\n",
      "Epoch 34: val_accuracy did not improve from 0.91667\n",
      "8/8 [==============================] - 0s 12ms/step - loss: 0.2589 - accuracy: 0.8982 - val_loss: 0.3337 - val_accuracy: 0.7500\n",
      "Epoch 35/45\n",
      "8/8 [==============================] - ETA: 0s - loss: 0.3739 - accuracy: 0.8097\n",
      "Epoch 35: val_accuracy did not improve from 0.91667\n",
      "8/8 [==============================] - 0s 12ms/step - loss: 0.3739 - accuracy: 0.8097 - val_loss: 0.3961 - val_accuracy: 0.7500\n",
      "Epoch 36/45\n",
      "8/8 [==============================] - ETA: 0s - loss: 0.3610 - accuracy: 0.8496\n",
      "Epoch 36: val_accuracy did not improve from 0.91667\n",
      "8/8 [==============================] - 0s 13ms/step - loss: 0.3610 - accuracy: 0.8496 - val_loss: 0.5427 - val_accuracy: 0.7500\n",
      "Epoch 37/45\n",
      "6/8 [=====================>........] - ETA: 0s - loss: 0.3456 - accuracy: 0.8229\n",
      "Epoch 37: val_accuracy did not improve from 0.91667\n",
      "8/8 [==============================] - 0s 14ms/step - loss: 0.3386 - accuracy: 0.8319 - val_loss: 0.2672 - val_accuracy: 0.9167\n",
      "Epoch 38/45\n",
      "7/8 [=========================>....] - ETA: 0s - loss: 0.2145 - accuracy: 0.9464\n",
      "Epoch 38: val_accuracy did not improve from 0.91667\n",
      "8/8 [==============================] - 0s 13ms/step - loss: 0.2156 - accuracy: 0.9469 - val_loss: 0.4486 - val_accuracy: 0.7500\n",
      "Epoch 39/45\n",
      "8/8 [==============================] - ETA: 0s - loss: 0.3646 - accuracy: 0.8230\n",
      "Epoch 39: val_accuracy did not improve from 0.91667\n",
      "8/8 [==============================] - 0s 12ms/step - loss: 0.3646 - accuracy: 0.8230 - val_loss: 0.2954 - val_accuracy: 0.7500\n",
      "Epoch 40/45\n",
      "7/8 [=========================>....] - ETA: 0s - loss: 0.2927 - accuracy: 0.8795\n",
      "Epoch 40: val_accuracy did not improve from 0.91667\n",
      "8/8 [==============================] - 0s 13ms/step - loss: 0.2955 - accuracy: 0.8761 - val_loss: 0.3019 - val_accuracy: 0.8333\n",
      "Epoch 41/45\n",
      "8/8 [==============================] - ETA: 0s - loss: 0.2310 - accuracy: 0.9159\n",
      "Epoch 41: val_accuracy did not improve from 0.91667\n",
      "8/8 [==============================] - 0s 12ms/step - loss: 0.2310 - accuracy: 0.9159 - val_loss: 0.2556 - val_accuracy: 0.9167\n",
      "Epoch 42/45\n",
      "8/8 [==============================] - ETA: 0s - loss: 0.2356 - accuracy: 0.8894\n",
      "Epoch 42: val_accuracy did not improve from 0.91667\n",
      "8/8 [==============================] - 0s 12ms/step - loss: 0.2356 - accuracy: 0.8894 - val_loss: 0.2875 - val_accuracy: 0.8333\n",
      "Epoch 43/45\n",
      "8/8 [==============================] - ETA: 0s - loss: 0.2299 - accuracy: 0.9027\n",
      "Epoch 43: val_accuracy did not improve from 0.91667\n",
      "8/8 [==============================] - 0s 12ms/step - loss: 0.2299 - accuracy: 0.9027 - val_loss: 0.2512 - val_accuracy: 0.9167\n",
      "Epoch 44/45\n",
      "8/8 [==============================] - ETA: 0s - loss: 0.2430 - accuracy: 0.8938\n",
      "Epoch 44: val_accuracy did not improve from 0.91667\n",
      "8/8 [==============================] - 0s 12ms/step - loss: 0.2430 - accuracy: 0.8938 - val_loss: 0.2457 - val_accuracy: 0.9167\n",
      "Epoch 45/45\n",
      "8/8 [==============================] - ETA: 0s - loss: 0.2285 - accuracy: 0.9027\n",
      "Epoch 45: val_accuracy did not improve from 0.91667\n",
      "8/8 [==============================] - 0s 12ms/step - loss: 0.2285 - accuracy: 0.9027 - val_loss: 0.2928 - val_accuracy: 0.8333\n"
     ]
    }
   ],
   "source": [
    "# Train Model\n",
    "filepath = \"./saved_model/ikun_classifier\"\n",
    "checkpoint = tf.keras.callbacks.ModelCheckpoint(\n",
    "    filepath, monitor='val_accuracy', save_weights_only=True, save_best_only=True, verbose=1\n",
    ")\n",
    "\n",
    "history = model.fit(\n",
    "    x_train,\n",
    "    y_train,\n",
    "    validation_data=(x_test, y_test),\n",
    "    epochs=45,\n",
    "    callbacks=[checkpoint],\n",
    ")"
   ]
  },
  {
   "cell_type": "code",
   "execution_count": 131,
   "metadata": {},
   "outputs": [
    {
     "name": "stdout",
     "output_type": "stream",
     "text": [
      "1/1 [==============================] - 0s 27ms/step - loss: 0.4504 - accuracy: 0.8667\n"
     ]
    }
   ],
   "source": [
    "# Validate Model\n",
    "model.load_weights(filepath)\n",
    "loss, accuracy = model.evaluate(x_test, y_test)"
   ]
  },
  {
   "cell_type": "code",
   "execution_count": 132,
   "metadata": {},
   "outputs": [
    {
     "data": {
      "image/png": "[encoded data removed]",
      "text/plain": [
       "<Figure size 640x480 with 1 Axes>"
      ]
     },
     "metadata": {},
     "output_type": "display_data"
    },
    {
     "data": {
      "text/plain": [
       "<matplotlib.legend.Legend at 0x15517e65b08>"
      ]
     },
     "execution_count": 132,
     "metadata": {},
     "output_type": "execute_result"
    },
    {
     "data": {
      "image/png": "[encoded data removed]",
      "text/plain": [
       "<Figure size 640x480 with 1 Axes>"
      ]
     },
     "metadata": {},
     "output_type": "display_data"
    }
   ],
   "source": [
    "# Training Result Plotting\n",
    "\n",
    "plt.plot(history.history['loss'])\n",
    "plt.plot(history.history['val_loss'])\n",
    "plt.title('Model loss')\n",
    "plt.xlabel('epoch')\n",
    "plt.ylabel('loss')\n",
    "plt.legend(['train set', 'test set'], loc='upper right')\n",
    "plt.show()\n",
    "\n",
    "plt.plot(history.history['accuracy'])\n",
    "plt.plot(history.history['val_accuracy'])\n",
    "plt.title('Model accuracy')\n",
    "plt.xlabel('epoch')\n",
    "plt.ylabel('accuracy')\n",
    "plt.legend(['train set', 'test set'], loc='upper right')"
   ]
  },
  {
   "cell_type": "code",
   "execution_count": 133,
   "metadata": {},
   "outputs": [
    {
     "name": "stderr",
     "output_type": "stream",
     "text": [
      "WARNING:absl:Found untraced functions such as gru_cell_18_layer_call_fn, gru_cell_18_layer_call_and_return_conditional_losses while saving (showing 2 of 2). These functions will not be directly callable after loading.\n"
     ]
    },
    {
     "name": "stdout",
     "output_type": "stream",
     "text": [
      "INFO:tensorflow:Assets written to: ikun_model\\assets\n"
     ]
    },
    {
     "name": "stderr",
     "output_type": "stream",
     "text": [
      "INFO:tensorflow:Assets written to: ikun_model\\assets\n"
     ]
    }
   ],
   "source": [
    "model.save('ikun_model')"
   ]
  },
  {
   "cell_type": "code",
   "execution_count": null,
   "metadata": {},
   "outputs": [],
   "source": []
  }
 ],
 "metadata": {
  "kernelspec": {
   "display_name": "Python 3 (ipykernel)",
   "language": "python",
   "name": "python3"
  },
  "language_info": {
   "codemirror_mode": {
    "name": "ipython",
    "version": 3
   },
   "file_extension": ".py",
   "mimetype": "text/x-python",
   "name": "python",
   "nbconvert_exporter": "python",
   "pygments_lexer": "ipython3",
   "version": "3.7.16"
  }
 },
 "nbformat": 4,
 "nbformat_minor": 1
}
